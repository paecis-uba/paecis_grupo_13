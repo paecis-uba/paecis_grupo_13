{
 "cells": [
  {
   "cell_type": "markdown",
   "metadata": {
    "id": "9bK9vIxoDJcG"
   },
   "source": [
    "Búsqueda de Videos"
   ]
  },
  {
   "cell_type": "code",
   "execution_count": null,
   "metadata": {
    "colab": {
     "base_uri": "https://localhost:8080/"
    },
    "executionInfo": {
     "elapsed": 7472,
     "status": "ok",
     "timestamp": 1720558754983,
     "user": {
      "displayName": "Vladyslav Dodonov",
      "userId": "03989027945806646216"
     },
     "user_tz": -120
    },
    "id": "7Pjy2c35FMG6",
    "outputId": "ac572b63-d9c1-4a1c-cdb8-2c3422b33309"
   },
   "outputs": [],
   "source": [
    "# Install isodate library\n",
    "#%pip install isodate"
   ]
  },
  {
   "cell_type": "code",
   "execution_count": 2,
   "metadata": {
    "executionInfo": {
     "elapsed": 265,
     "status": "ok",
     "timestamp": 1720568510678,
     "user": {
      "displayName": "Vladyslav Dodonov",
      "userId": "03989027945806646216"
     },
     "user_tz": -120
    },
    "id": "1q7GMR0iqiNK"
   },
   "outputs": [],
   "source": [
    "import pandas as pd\n",
    "import isodate\n",
    "import numpy as np\n",
    "import matplotlib.pyplot as plt\n",
    "import seaborn as sns\n",
    "import re\n",
    "import os"
   ]
  },
  {
   "cell_type": "code",
   "execution_count": 3,
   "metadata": {
    "executionInfo": {
     "elapsed": 253,
     "status": "ok",
     "timestamp": 1720558779534,
     "user": {
      "displayName": "Vladyslav Dodonov",
      "userId": "03989027945806646216"
     },
     "user_tz": -120
    },
    "id": "ZHu4P59U_zOv"
   },
   "outputs": [],
   "source": [
    "# Getting the path and the file from the data raw directory\n",
    "ruta_archivo = os.path.join('..', \"data\", \"raw\", \"youtube_comments_with_flags_and_replies.csv\")\n",
    "comentarios = pd.read_csv(ruta_archivo)"
   ]
  },
  {
   "cell_type": "code",
   "execution_count": 4,
   "metadata": {
    "colab": {
     "base_uri": "https://localhost:8080/",
     "height": 660
    },
    "executionInfo": {
     "elapsed": 2624,
     "status": "ok",
     "timestamp": 1720558783230,
     "user": {
      "displayName": "Vladyslav Dodonov",
      "userId": "03989027945806646216"
     },
     "user_tz": -120
    },
    "id": "wVPrlxXVKQI-",
    "outputId": "784c54ee-e53a-4f79-9065-b01415dd133e"
   },
   "outputs": [
    {
     "data": {
      "text/html": [
       "<div>\n",
       "<style scoped>\n",
       "    .dataframe tbody tr th:only-of-type {\n",
       "        vertical-align: middle;\n",
       "    }\n",
       "\n",
       "    .dataframe tbody tr th {\n",
       "        vertical-align: top;\n",
       "    }\n",
       "\n",
       "    .dataframe thead th {\n",
       "        text-align: right;\n",
       "    }\n",
       "</style>\n",
       "<table border=\"1\" class=\"dataframe\">\n",
       "  <thead>\n",
       "    <tr style=\"text-align: right;\">\n",
       "      <th></th>\n",
       "      <th>comment_id</th>\n",
       "      <th>comment</th>\n",
       "      <th>user_id</th>\n",
       "      <th>user_name</th>\n",
       "      <th>comment_time</th>\n",
       "      <th>comment_likes</th>\n",
       "      <th>total_reply_count</th>\n",
       "      <th>is_top_level_comment</th>\n",
       "      <th>video_title</th>\n",
       "      <th>channel_title</th>\n",
       "      <th>video_published_at</th>\n",
       "      <th>video_views</th>\n",
       "      <th>video_likes</th>\n",
       "      <th>video_duration</th>\n",
       "      <th>relacion_evento</th>\n",
       "      <th>evento</th>\n",
       "      <th>tipo_evento</th>\n",
       "      <th>condiciones_cuenta</th>\n",
       "    </tr>\n",
       "  </thead>\n",
       "  <tbody>\n",
       "    <tr>\n",
       "      <th>0</th>\n",
       "      <td>UgwZJGlfpFvs-r_l-hB4AaABAg</td>\n",
       "      <td>Esta vieja esta más loca cómo una cabra..😂😂😂</td>\n",
       "      <td>UC7s8hGLBfkLOzpho73qs4FQ</td>\n",
       "      <td>@siulenlo8728</td>\n",
       "      <td>2024-08-15T02:14:26Z</td>\n",
       "      <td>0</td>\n",
       "      <td>0</td>\n",
       "      <td>True</td>\n",
       "      <td>MILEI SE CRUZÓ MAL CON PERIODISTA QUE NO PARÓ ...</td>\n",
       "      <td>El Peluca Milei</td>\n",
       "      <td>2024-01-26T12:00:37Z</td>\n",
       "      <td>628428</td>\n",
       "      <td>23596</td>\n",
       "      <td>PT41M21S</td>\n",
       "      <td>No</td>\n",
       "      <td>Primer paro nacional</td>\n",
       "      <td>Desfavorable</td>\n",
       "      <td>A favor</td>\n",
       "    </tr>\n",
       "    <tr>\n",
       "      <th>1</th>\n",
       "      <td>UgyEy8OvhoFZrm5GJdd4AaABAg</td>\n",
       "      <td>Cuanto tiempo?</td>\n",
       "      <td>UCAHJ7ysRA9VnBb7JsHBcYPQ</td>\n",
       "      <td>@Raul-bb3nc</td>\n",
       "      <td>2024-05-18T04:07:18Z</td>\n",
       "      <td>0</td>\n",
       "      <td>0</td>\n",
       "      <td>True</td>\n",
       "      <td>MILEI SE CRUZÓ MAL CON PERIODISTA QUE NO PARÓ ...</td>\n",
       "      <td>El Peluca Milei</td>\n",
       "      <td>2024-01-26T12:00:37Z</td>\n",
       "      <td>628428</td>\n",
       "      <td>23596</td>\n",
       "      <td>PT41M21S</td>\n",
       "      <td>No</td>\n",
       "      <td>Primer paro nacional</td>\n",
       "      <td>Desfavorable</td>\n",
       "      <td>A favor</td>\n",
       "    </tr>\n",
       "    <tr>\n",
       "      <th>2</th>\n",
       "      <td>UgwHEuRpsRRYPMdUIgl4AaABAg</td>\n",
       "      <td>DEMENTE</td>\n",
       "      <td>UCpkOnRIXHKSxUTB_o670KUQ</td>\n",
       "      <td>@DanielaMagnetto</td>\n",
       "      <td>2024-05-10T15:27:31Z</td>\n",
       "      <td>0</td>\n",
       "      <td>0</td>\n",
       "      <td>True</td>\n",
       "      <td>MILEI SE CRUZÓ MAL CON PERIODISTA QUE NO PARÓ ...</td>\n",
       "      <td>El Peluca Milei</td>\n",
       "      <td>2024-01-26T12:00:37Z</td>\n",
       "      <td>628428</td>\n",
       "      <td>23596</td>\n",
       "      <td>PT41M21S</td>\n",
       "      <td>No</td>\n",
       "      <td>Primer paro nacional</td>\n",
       "      <td>Desfavorable</td>\n",
       "      <td>A favor</td>\n",
       "    </tr>\n",
       "    <tr>\n",
       "      <th>3</th>\n",
       "      <td>UgxwuSoMHOuFhLJq6HR4AaABAg</td>\n",
       "      <td>Metete las remeras y los gorros en el Q lo 😂</td>\n",
       "      <td>UCpkOnRIXHKSxUTB_o670KUQ</td>\n",
       "      <td>@DanielaMagnetto</td>\n",
       "      <td>2024-05-10T15:11:56Z</td>\n",
       "      <td>0</td>\n",
       "      <td>0</td>\n",
       "      <td>True</td>\n",
       "      <td>MILEI SE CRUZÓ MAL CON PERIODISTA QUE NO PARÓ ...</td>\n",
       "      <td>El Peluca Milei</td>\n",
       "      <td>2024-01-26T12:00:37Z</td>\n",
       "      <td>628428</td>\n",
       "      <td>23596</td>\n",
       "      <td>PT41M21S</td>\n",
       "      <td>No</td>\n",
       "      <td>Primer paro nacional</td>\n",
       "      <td>Desfavorable</td>\n",
       "      <td>A favor</td>\n",
       "    </tr>\n",
       "    <tr>\n",
       "      <th>4</th>\n",
       "      <td>UgycBcRrtu-sx9tHI-N4AaABAg</td>\n",
       "      <td>Que hermoso querido presidente.</td>\n",
       "      <td>UC3a1y33-3H-9J4MEq-fnh8g</td>\n",
       "      <td>@JojoRD-1023</td>\n",
       "      <td>2024-05-04T00:24:26Z</td>\n",
       "      <td>0</td>\n",
       "      <td>0</td>\n",
       "      <td>True</td>\n",
       "      <td>MILEI SE CRUZÓ MAL CON PERIODISTA QUE NO PARÓ ...</td>\n",
       "      <td>El Peluca Milei</td>\n",
       "      <td>2024-01-26T12:00:37Z</td>\n",
       "      <td>628428</td>\n",
       "      <td>23596</td>\n",
       "      <td>PT41M21S</td>\n",
       "      <td>No</td>\n",
       "      <td>Primer paro nacional</td>\n",
       "      <td>Desfavorable</td>\n",
       "      <td>A favor</td>\n",
       "    </tr>\n",
       "  </tbody>\n",
       "</table>\n",
       "</div>"
      ],
      "text/plain": [
       "                   comment_id                                       comment  \\\n",
       "0  UgwZJGlfpFvs-r_l-hB4AaABAg  Esta vieja esta más loca cómo una cabra..😂😂😂   \n",
       "1  UgyEy8OvhoFZrm5GJdd4AaABAg                                Cuanto tiempo?   \n",
       "2  UgwHEuRpsRRYPMdUIgl4AaABAg                                       DEMENTE   \n",
       "3  UgxwuSoMHOuFhLJq6HR4AaABAg  Metete las remeras y los gorros en el Q lo 😂   \n",
       "4  UgycBcRrtu-sx9tHI-N4AaABAg               Que hermoso querido presidente.   \n",
       "\n",
       "                    user_id         user_name          comment_time  \\\n",
       "0  UC7s8hGLBfkLOzpho73qs4FQ     @siulenlo8728  2024-08-15T02:14:26Z   \n",
       "1  UCAHJ7ysRA9VnBb7JsHBcYPQ       @Raul-bb3nc  2024-05-18T04:07:18Z   \n",
       "2  UCpkOnRIXHKSxUTB_o670KUQ  @DanielaMagnetto  2024-05-10T15:27:31Z   \n",
       "3  UCpkOnRIXHKSxUTB_o670KUQ  @DanielaMagnetto  2024-05-10T15:11:56Z   \n",
       "4  UC3a1y33-3H-9J4MEq-fnh8g      @JojoRD-1023  2024-05-04T00:24:26Z   \n",
       "\n",
       "   comment_likes  total_reply_count  is_top_level_comment  \\\n",
       "0              0                  0                  True   \n",
       "1              0                  0                  True   \n",
       "2              0                  0                  True   \n",
       "3              0                  0                  True   \n",
       "4              0                  0                  True   \n",
       "\n",
       "                                         video_title    channel_title  \\\n",
       "0  MILEI SE CRUZÓ MAL CON PERIODISTA QUE NO PARÓ ...  El Peluca Milei   \n",
       "1  MILEI SE CRUZÓ MAL CON PERIODISTA QUE NO PARÓ ...  El Peluca Milei   \n",
       "2  MILEI SE CRUZÓ MAL CON PERIODISTA QUE NO PARÓ ...  El Peluca Milei   \n",
       "3  MILEI SE CRUZÓ MAL CON PERIODISTA QUE NO PARÓ ...  El Peluca Milei   \n",
       "4  MILEI SE CRUZÓ MAL CON PERIODISTA QUE NO PARÓ ...  El Peluca Milei   \n",
       "\n",
       "     video_published_at  video_views  video_likes video_duration  \\\n",
       "0  2024-01-26T12:00:37Z       628428        23596       PT41M21S   \n",
       "1  2024-01-26T12:00:37Z       628428        23596       PT41M21S   \n",
       "2  2024-01-26T12:00:37Z       628428        23596       PT41M21S   \n",
       "3  2024-01-26T12:00:37Z       628428        23596       PT41M21S   \n",
       "4  2024-01-26T12:00:37Z       628428        23596       PT41M21S   \n",
       "\n",
       "  relacion_evento                evento   tipo_evento condiciones_cuenta  \n",
       "0              No  Primer paro nacional  Desfavorable            A favor  \n",
       "1              No  Primer paro nacional  Desfavorable            A favor  \n",
       "2              No  Primer paro nacional  Desfavorable            A favor  \n",
       "3              No  Primer paro nacional  Desfavorable            A favor  \n",
       "4              No  Primer paro nacional  Desfavorable            A favor  "
      ]
     },
     "execution_count": 4,
     "metadata": {},
     "output_type": "execute_result"
    }
   ],
   "source": [
    "# Display the first few rows of the dataframe to confirm it loaded correctly\n",
    "comentarios.head()"
   ]
  },
  {
   "cell_type": "code",
   "execution_count": 5,
   "metadata": {
    "executionInfo": {
     "elapsed": 735,
     "status": "ok",
     "timestamp": 1720558921333,
     "user": {
      "displayName": "Vladyslav Dodonov",
      "userId": "03989027945806646216"
     },
     "user_tz": -120
    },
    "id": "Zw9O_fh3TXUh"
   },
   "outputs": [],
   "source": [
    "# Convert 'total_reply_count' and 'video_likes' to numeric\n",
    "comentarios['total_reply_count'] = pd.to_numeric(comentarios['total_reply_count'], errors='coerce')\n",
    "comentarios['video_likes'] = pd.to_numeric(comentarios['video_likes'], errors='coerce')"
   ]
  },
  {
   "cell_type": "code",
   "execution_count": 6,
   "metadata": {
    "colab": {
     "base_uri": "https://localhost:8080/"
    },
    "executionInfo": {
     "elapsed": 2,
     "status": "ok",
     "timestamp": 1720558923519,
     "user": {
      "displayName": "Vladyslav Dodonov",
      "userId": "03989027945806646216"
     },
     "user_tz": -120
    },
    "id": "rWf5BqYNH_mh",
    "outputId": "2809486e-dc27-4bf7-8820-3a2051fc5a33"
   },
   "outputs": [
    {
     "name": "stdout",
     "output_type": "stream",
     "text": [
      "<class 'pandas.core.frame.DataFrame'>\n",
      "RangeIndex: 86549 entries, 0 to 86548\n",
      "Data columns (total 18 columns):\n",
      " #   Column                Non-Null Count  Dtype \n",
      "---  ------                --------------  ----- \n",
      " 0   comment_id            86549 non-null  object\n",
      " 1   comment               86549 non-null  object\n",
      " 2   user_id               86549 non-null  object\n",
      " 3   user_name             86472 non-null  object\n",
      " 4   comment_time          86549 non-null  object\n",
      " 5   comment_likes         86549 non-null  int64 \n",
      " 6   total_reply_count     86549 non-null  int64 \n",
      " 7   is_top_level_comment  86549 non-null  bool  \n",
      " 8   video_title           86549 non-null  object\n",
      " 9   channel_title         86549 non-null  object\n",
      " 10  video_published_at    86549 non-null  object\n",
      " 11  video_views           86549 non-null  int64 \n",
      " 12  video_likes           86549 non-null  int64 \n",
      " 13  video_duration        86549 non-null  object\n",
      " 14  relacion_evento       86549 non-null  object\n",
      " 15  evento                86549 non-null  object\n",
      " 16  tipo_evento           86549 non-null  object\n",
      " 17  condiciones_cuenta    86549 non-null  object\n",
      "dtypes: bool(1), int64(4), object(13)\n",
      "memory usage: 11.3+ MB\n"
     ]
    }
   ],
   "source": [
    "comentarios.info()"
   ]
  },
  {
   "cell_type": "code",
   "execution_count": 7,
   "metadata": {
    "executionInfo": {
     "elapsed": 301,
     "status": "ok",
     "timestamp": 1720564528509,
     "user": {
      "displayName": "Vladyslav Dodonov",
      "userId": "03989027945806646216"
     },
     "user_tz": -120
    },
    "id": "0Moa0ukmBf_Y"
   },
   "outputs": [],
   "source": [
    "# Remove rows where 'user_id' is null\n",
    "comentarios_cleaned = comentarios.dropna(subset=['user_id'])"
   ]
  },
  {
   "cell_type": "code",
   "execution_count": 8,
   "metadata": {
    "executionInfo": {
     "elapsed": 260,
     "status": "ok",
     "timestamp": 1720564533035,
     "user": {
      "displayName": "Vladyslav Dodonov",
      "userId": "03989027945806646216"
     },
     "user_tz": -120
    },
    "id": "uxkQsND5Bifw"
   },
   "outputs": [],
   "source": [
    "# Define a function to convert ISO 8601 duration to a timedelta\n",
    "def convert_iso8601_to_timedelta(iso_duration):\n",
    "    return isodate.parse_duration(iso_duration)"
   ]
  },
  {
   "cell_type": "code",
   "execution_count": 10,
   "metadata": {
    "executionInfo": {
     "elapsed": 1028,
     "status": "ok",
     "timestamp": 1720558944263,
     "user": {
      "displayName": "Vladyslav Dodonov",
      "userId": "03989027945806646216"
     },
     "user_tz": -120
    },
    "id": "GA9FbtfiGPiy"
   },
   "outputs": [],
   "source": [
    "# Ensure that the DataFrame is not a view of another DataFrame\n",
    "comentarios_filtered_time = comentarios_cleaned.copy()\n",
    "\n",
    "# Convert the 'video_duration' column\n",
    "comentarios_filtered_time.loc[:, 'duration_timedelta'] = comentarios_filtered_time['video_duration'].apply(convert_iso8601_to_timedelta)\n",
    "\n",
    "# Convert the timedelta to total seconds (or any other format you prefer)\n",
    "comentarios_filtered_time.loc[:, 'duration_seconds'] = comentarios_filtered_time['duration_timedelta'].apply(lambda x: x.total_seconds())\n",
    "\n",
    "# Delete the original 'video_duration' column\n",
    "comentarios_filtered_time.drop(columns=['video_duration'], inplace=True)\n"
   ]
  },
  {
   "cell_type": "code",
   "execution_count": 11,
   "metadata": {
    "executionInfo": {
     "elapsed": 583,
     "status": "ok",
     "timestamp": 1720558945860,
     "user": {
      "displayName": "Vladyslav Dodonov",
      "userId": "03989027945806646216"
     },
     "user_tz": -120
    },
    "id": "5aPeJVusGvkP"
   },
   "outputs": [],
   "source": [
    "# Convert 'comment_time' and 'video_published_at' to datetime\n",
    "comentarios_filtered_time['comment_time'] = pd.to_datetime(comentarios_filtered_time['comment_time'])\n",
    "comentarios_filtered_time['video_published_at'] = pd.to_datetime(comentarios_filtered_time['video_published_at'])\n"
   ]
  },
  {
   "cell_type": "code",
   "execution_count": 12,
   "metadata": {
    "executionInfo": {
     "elapsed": 2385,
     "status": "ok",
     "timestamp": 1720558993918,
     "user": {
      "displayName": "Vladyslav Dodonov",
      "userId": "03989027945806646216"
     },
     "user_tz": -120
    },
    "id": "7WXzNAbMF9vZ"
   },
   "outputs": [],
   "source": [
    "# Relative destination for all the notebooks\n",
    "directorio_destino = os.path.join('..', \"data\", \"raw\")\n",
    "archivo_csv = os.path.join(directorio_destino, 'youtube_comments_with_cleaned_ts.csv')\n",
    "\n",
    "# Saving the combined DataFrame to a CSV file with UTF-8 encoding\n",
    "comentarios_filtered_time.to_csv(archivo_csv, index=False, encoding='utf-8')"
   ]
  },
  {
   "cell_type": "code",
   "execution_count": 94,
   "metadata": {},
   "outputs": [
    {
     "name": "stdout",
     "output_type": "stream",
     "text": [
      "<class 'pandas.core.frame.DataFrame'>\n",
      "RangeIndex: 86549 entries, 0 to 86548\n",
      "Data columns (total 19 columns):\n",
      " #   Column                Non-Null Count  Dtype              \n",
      "---  ------                --------------  -----              \n",
      " 0   comment_id            86549 non-null  object             \n",
      " 1   comment               86549 non-null  object             \n",
      " 2   user_id               86549 non-null  object             \n",
      " 3   user_name             86472 non-null  object             \n",
      " 4   comment_time          86549 non-null  datetime64[ns, UTC]\n",
      " 5   comment_likes         86549 non-null  int64              \n",
      " 6   total_reply_count     86549 non-null  int64              \n",
      " 7   is_top_level_comment  86549 non-null  bool               \n",
      " 8   video_title           86549 non-null  object             \n",
      " 9   channel_title         86549 non-null  object             \n",
      " 10  video_published_at    86549 non-null  datetime64[ns, UTC]\n",
      " 11  video_views           86549 non-null  int64              \n",
      " 12  video_likes           86549 non-null  int64              \n",
      " 13  relacion_evento       86549 non-null  object             \n",
      " 14  evento                86549 non-null  object             \n",
      " 15  tipo_evento           86549 non-null  object             \n",
      " 16  condiciones_cuenta    86549 non-null  object             \n",
      " 17  duration_timedelta    86549 non-null  timedelta64[ns]    \n",
      " 18  duration_seconds      86549 non-null  float64            \n",
      "dtypes: bool(1), datetime64[ns, UTC](2), float64(1), int64(4), object(10), timedelta64[ns](1)\n",
      "memory usage: 12.0+ MB\n"
     ]
    }
   ],
   "source": [
    "comentarios_filtered_time.info()"
   ]
  },
  {
   "cell_type": "code",
   "execution_count": 93,
   "metadata": {
    "colab": {
     "base_uri": "https://localhost:8080/",
     "height": 300
    },
    "executionInfo": {
     "elapsed": 263,
     "status": "ok",
     "timestamp": 1720565147329,
     "user": {
      "displayName": "Vladyslav Dodonov",
      "userId": "03989027945806646216"
     },
     "user_tz": -120
    },
    "id": "d4WbQwP6l8Qu",
    "outputId": "4fa1646c-52b8-4f54-898a-f2e0263f87b9"
   },
   "outputs": [
    {
     "data": {
      "text/html": [
       "<div>\n",
       "<style scoped>\n",
       "    .dataframe tbody tr th:only-of-type {\n",
       "        vertical-align: middle;\n",
       "    }\n",
       "\n",
       "    .dataframe tbody tr th {\n",
       "        vertical-align: top;\n",
       "    }\n",
       "\n",
       "    .dataframe thead th {\n",
       "        text-align: right;\n",
       "    }\n",
       "</style>\n",
       "<table border=\"1\" class=\"dataframe\">\n",
       "  <thead>\n",
       "    <tr style=\"text-align: right;\">\n",
       "      <th></th>\n",
       "      <th>comment_likes</th>\n",
       "      <th>total_reply_count</th>\n",
       "      <th>video_views</th>\n",
       "      <th>video_likes</th>\n",
       "      <th>duration_timedelta</th>\n",
       "      <th>duration_seconds</th>\n",
       "    </tr>\n",
       "  </thead>\n",
       "  <tbody>\n",
       "    <tr>\n",
       "      <th>count</th>\n",
       "      <td>86549.000000</td>\n",
       "      <td>86549.000000</td>\n",
       "      <td>86549.000000</td>\n",
       "      <td>86549.000000</td>\n",
       "      <td>86549</td>\n",
       "      <td>86549.000000</td>\n",
       "    </tr>\n",
       "    <tr>\n",
       "      <th>mean</th>\n",
       "      <td>5.873702</td>\n",
       "      <td>0.374793</td>\n",
       "      <td>226396.459266</td>\n",
       "      <td>9925.305653</td>\n",
       "      <td>0 days 00:32:30.674565852</td>\n",
       "      <td>1950.674566</td>\n",
       "    </tr>\n",
       "    <tr>\n",
       "      <th>std</th>\n",
       "      <td>34.840874</td>\n",
       "      <td>3.165036</td>\n",
       "      <td>219459.347322</td>\n",
       "      <td>10430.379075</td>\n",
       "      <td>0 days 00:28:15.029411111</td>\n",
       "      <td>1695.029411</td>\n",
       "    </tr>\n",
       "    <tr>\n",
       "      <th>min</th>\n",
       "      <td>0.000000</td>\n",
       "      <td>0.000000</td>\n",
       "      <td>867.000000</td>\n",
       "      <td>20.000000</td>\n",
       "      <td>0 days 00:00:32</td>\n",
       "      <td>32.000000</td>\n",
       "    </tr>\n",
       "    <tr>\n",
       "      <th>25%</th>\n",
       "      <td>0.000000</td>\n",
       "      <td>0.000000</td>\n",
       "      <td>39357.000000</td>\n",
       "      <td>1383.000000</td>\n",
       "      <td>0 days 00:08:51</td>\n",
       "      <td>531.000000</td>\n",
       "    </tr>\n",
       "    <tr>\n",
       "      <th>50%</th>\n",
       "      <td>0.000000</td>\n",
       "      <td>0.000000</td>\n",
       "      <td>115979.000000</td>\n",
       "      <td>5445.000000</td>\n",
       "      <td>0 days 00:37:07</td>\n",
       "      <td>2227.000000</td>\n",
       "    </tr>\n",
       "    <tr>\n",
       "      <th>75%</th>\n",
       "      <td>1.000000</td>\n",
       "      <td>0.000000</td>\n",
       "      <td>370405.000000</td>\n",
       "      <td>18958.000000</td>\n",
       "      <td>0 days 00:53:43</td>\n",
       "      <td>3223.000000</td>\n",
       "    </tr>\n",
       "    <tr>\n",
       "      <th>max</th>\n",
       "      <td>2355.000000</td>\n",
       "      <td>333.000000</td>\n",
       "      <td>628428.000000</td>\n",
       "      <td>34327.000000</td>\n",
       "      <td>0 days 03:24:25</td>\n",
       "      <td>12265.000000</td>\n",
       "    </tr>\n",
       "  </tbody>\n",
       "</table>\n",
       "</div>"
      ],
      "text/plain": [
       "       comment_likes  total_reply_count    video_views   video_likes  \\\n",
       "count   86549.000000       86549.000000   86549.000000  86549.000000   \n",
       "mean        5.873702           0.374793  226396.459266   9925.305653   \n",
       "std        34.840874           3.165036  219459.347322  10430.379075   \n",
       "min         0.000000           0.000000     867.000000     20.000000   \n",
       "25%         0.000000           0.000000   39357.000000   1383.000000   \n",
       "50%         0.000000           0.000000  115979.000000   5445.000000   \n",
       "75%         1.000000           0.000000  370405.000000  18958.000000   \n",
       "max      2355.000000         333.000000  628428.000000  34327.000000   \n",
       "\n",
       "              duration_timedelta  duration_seconds  \n",
       "count                      86549      86549.000000  \n",
       "mean   0 days 00:32:30.674565852       1950.674566  \n",
       "std    0 days 00:28:15.029411111       1695.029411  \n",
       "min              0 days 00:00:32         32.000000  \n",
       "25%              0 days 00:08:51        531.000000  \n",
       "50%              0 days 00:37:07       2227.000000  \n",
       "75%              0 days 00:53:43       3223.000000  \n",
       "max              0 days 03:24:25      12265.000000  "
      ]
     },
     "execution_count": 93,
     "metadata": {},
     "output_type": "execute_result"
    }
   ],
   "source": [
    "comentarios_filtered_time.describe()"
   ]
  },
  {
   "cell_type": "code",
   "execution_count": 91,
   "metadata": {
    "colab": {
     "base_uri": "https://localhost:8080/",
     "height": 89
    },
    "executionInfo": {
     "elapsed": 294,
     "status": "ok",
     "timestamp": 1720565474510,
     "user": {
      "displayName": "Vladyslav Dodonov",
      "userId": "03989027945806646216"
     },
     "user_tz": -120
    },
    "id": "noJi7N_HsWYV",
    "outputId": "4a5a93a0-c57c-44a9-e032-761bc74e274a"
   },
   "outputs": [
    {
     "data": {
      "text/html": [
       "<div>\n",
       "<style scoped>\n",
       "    .dataframe tbody tr th:only-of-type {\n",
       "        vertical-align: middle;\n",
       "    }\n",
       "\n",
       "    .dataframe tbody tr th {\n",
       "        vertical-align: top;\n",
       "    }\n",
       "\n",
       "    .dataframe thead th {\n",
       "        text-align: right;\n",
       "    }\n",
       "</style>\n",
       "<table border=\"1\" class=\"dataframe\">\n",
       "  <thead>\n",
       "    <tr style=\"text-align: right;\">\n",
       "      <th></th>\n",
       "      <th>Comentarios Unicos</th>\n",
       "      <th>Usuarios Unicos</th>\n",
       "      <th>Videos</th>\n",
       "      <th>Eventos Relacionados</th>\n",
       "      <th>Canales</th>\n",
       "    </tr>\n",
       "  </thead>\n",
       "  <tbody>\n",
       "    <tr>\n",
       "      <th>0</th>\n",
       "      <td>86531</td>\n",
       "      <td>46184</td>\n",
       "      <td>214</td>\n",
       "      <td>12</td>\n",
       "      <td>7</td>\n",
       "    </tr>\n",
       "  </tbody>\n",
       "</table>\n",
       "</div>"
      ],
      "text/plain": [
       "   Comentarios Unicos  Usuarios Unicos  Videos  Eventos Relacionados  Canales\n",
       "0               86531            46184     214                    12        7"
      ]
     },
     "execution_count": 91,
     "metadata": {},
     "output_type": "execute_result"
    }
   ],
   "source": [
    "distinct_counts = pd.DataFrame({\n",
    "    'Comentarios Unicos': comentarios_filtered_time['comment_id'].nunique(),\n",
    "    'Usuarios Unicos': comentarios_filtered_time['user_id'].nunique(),\n",
    "    'Videos': comentarios_filtered_time['video_title'].nunique(),\n",
    "    'Eventos Relacionados': comentarios_filtered_time['evento'].nunique(),\n",
    "    'Canales': comentarios_filtered_time['channel_title'].nunique()\n",
    "}, index=[0])\n",
    "\n",
    "# Display the counts\n",
    "distinct_counts"
   ]
  },
  {
   "cell_type": "code",
   "execution_count": 38,
   "metadata": {
    "executionInfo": {
     "elapsed": 258,
     "status": "ok",
     "timestamp": 1720566956294,
     "user": {
      "displayName": "Vladyslav Dodonov",
      "userId": "03989027945806646216"
     },
     "user_tz": -120
    },
    "id": "oMNax4UQGiR8"
   },
   "outputs": [],
   "source": [
    "# Grouping by video_title and channel_title and counting comments\n",
    "comments_by_video = comentarios_filtered_time.groupby(['video_title', 'channel_title', 'evento']).size().reset_index(name='conteo_comentarios')\n"
   ]
  },
  {
   "cell_type": "code",
   "execution_count": 39,
   "metadata": {
    "colab": {
     "base_uri": "https://localhost:8080/",
     "height": 363
    },
    "executionInfo": {
     "elapsed": 5,
     "status": "ok",
     "timestamp": 1720566957274,
     "user": {
      "displayName": "Vladyslav Dodonov",
      "userId": "03989027945806646216"
     },
     "user_tz": -120
    },
    "id": "Yun3Da7gGluI",
    "outputId": "ec3b5543-f036-476a-9920-8c12e2d2aa62"
   },
   "outputs": [
    {
     "data": {
      "text/html": [
       "<div>\n",
       "<style scoped>\n",
       "    .dataframe tbody tr th:only-of-type {\n",
       "        vertical-align: middle;\n",
       "    }\n",
       "\n",
       "    .dataframe tbody tr th {\n",
       "        vertical-align: top;\n",
       "    }\n",
       "\n",
       "    .dataframe thead th {\n",
       "        text-align: right;\n",
       "    }\n",
       "</style>\n",
       "<table border=\"1\" class=\"dataframe\">\n",
       "  <thead>\n",
       "    <tr style=\"text-align: right;\">\n",
       "      <th></th>\n",
       "      <th>video_title</th>\n",
       "      <th>channel_title</th>\n",
       "      <th>evento</th>\n",
       "      <th>conteo_comentarios</th>\n",
       "    </tr>\n",
       "  </thead>\n",
       "  <tbody>\n",
       "    <tr>\n",
       "      <th>102</th>\n",
       "      <td>MILEI DESTROZÓ A LA MUJER DEL PRESIDENTE EN ES...</td>\n",
       "      <td>El Peluca Milei</td>\n",
       "      <td>Crisis diplomatica España</td>\n",
       "      <td>6741</td>\n",
       "    </tr>\n",
       "    <tr>\n",
       "      <th>118</th>\n",
       "      <td>MILEI SE CRUZÓ MAL CON PERIODISTA QUE NO PARÓ ...</td>\n",
       "      <td>El Peluca Milei</td>\n",
       "      <td>Primer paro nacional</td>\n",
       "      <td>5242</td>\n",
       "    </tr>\n",
       "    <tr>\n",
       "      <th>106</th>\n",
       "      <td>MILEI ESTALLÓ EN ESPAÑA EN PLENA PRESENTACIÓN ...</td>\n",
       "      <td>El Peluca Milei</td>\n",
       "      <td>Crisis diplomatica España</td>\n",
       "      <td>3321</td>\n",
       "    </tr>\n",
       "    <tr>\n",
       "      <th>26</th>\n",
       "      <td>CONCIERTO HISTÓRICO DE MILEI ANTE UN ESTADIO C...</td>\n",
       "      <td>El Peluca Milei</td>\n",
       "      <td>Presentación de libro</td>\n",
       "      <td>2801</td>\n",
       "    </tr>\n",
       "    <tr>\n",
       "      <th>107</th>\n",
       "      <td>MILEI ESTALLÓ ESPAÑA EN PLENA ENTREGA DE PREMIO</td>\n",
       "      <td>El Peluca Milei</td>\n",
       "      <td>20 de junio</td>\n",
       "      <td>2649</td>\n",
       "    </tr>\n",
       "    <tr>\n",
       "      <th>103</th>\n",
       "      <td>MILEI DIO EL DISCURSO DE SU VIDA ANTE TODOS EM...</td>\n",
       "      <td>El Peluca Milei</td>\n",
       "      <td>24 de marzo</td>\n",
       "      <td>2647</td>\n",
       "    </tr>\n",
       "    <tr>\n",
       "      <th>101</th>\n",
       "      <td>MILEI A LOS GRITOS EN MITRE TRAS EL ESCÁNDALO ...</td>\n",
       "      <td>El Peluca Milei</td>\n",
       "      <td>Crisis alimentos Capital Humano</td>\n",
       "      <td>2348</td>\n",
       "    </tr>\n",
       "    <tr>\n",
       "      <th>112</th>\n",
       "      <td>MILEI LE CERRÓ LA BOCA A PERIODISTA QUE LE CUE...</td>\n",
       "      <td>El Peluca Milei</td>\n",
       "      <td>Aprobación total Ley bases</td>\n",
       "      <td>2277</td>\n",
       "    </tr>\n",
       "    <tr>\n",
       "      <th>127</th>\n",
       "      <td>Milei, tras la  aprobación de la Ley Bases: \"E...</td>\n",
       "      <td>LA NACION</td>\n",
       "      <td>Aprobación total Ley bases</td>\n",
       "      <td>2056</td>\n",
       "    </tr>\n",
       "    <tr>\n",
       "      <th>108</th>\n",
       "      <td>MILEI EXPLOTÓ CON PERIODISTA YANKEE EN PLENA E...</td>\n",
       "      <td>El Peluca Milei</td>\n",
       "      <td>Reunion con Elon Musk</td>\n",
       "      <td>1697</td>\n",
       "    </tr>\n",
       "  </tbody>\n",
       "</table>\n",
       "</div>"
      ],
      "text/plain": [
       "                                           video_title    channel_title  \\\n",
       "102  MILEI DESTROZÓ A LA MUJER DEL PRESIDENTE EN ES...  El Peluca Milei   \n",
       "118  MILEI SE CRUZÓ MAL CON PERIODISTA QUE NO PARÓ ...  El Peluca Milei   \n",
       "106  MILEI ESTALLÓ EN ESPAÑA EN PLENA PRESENTACIÓN ...  El Peluca Milei   \n",
       "26   CONCIERTO HISTÓRICO DE MILEI ANTE UN ESTADIO C...  El Peluca Milei   \n",
       "107    MILEI ESTALLÓ ESPAÑA EN PLENA ENTREGA DE PREMIO  El Peluca Milei   \n",
       "103  MILEI DIO EL DISCURSO DE SU VIDA ANTE TODOS EM...  El Peluca Milei   \n",
       "101  MILEI A LOS GRITOS EN MITRE TRAS EL ESCÁNDALO ...  El Peluca Milei   \n",
       "112  MILEI LE CERRÓ LA BOCA A PERIODISTA QUE LE CUE...  El Peluca Milei   \n",
       "127  Milei, tras la  aprobación de la Ley Bases: \"E...        LA NACION   \n",
       "108  MILEI EXPLOTÓ CON PERIODISTA YANKEE EN PLENA E...  El Peluca Milei   \n",
       "\n",
       "                              evento  conteo_comentarios  \n",
       "102        Crisis diplomatica España                6741  \n",
       "118             Primer paro nacional                5242  \n",
       "106        Crisis diplomatica España                3321  \n",
       "26             Presentación de libro                2801  \n",
       "107                      20 de junio                2649  \n",
       "103                      24 de marzo                2647  \n",
       "101  Crisis alimentos Capital Humano                2348  \n",
       "112       Aprobación total Ley bases                2277  \n",
       "127       Aprobación total Ley bases                2056  \n",
       "108            Reunion con Elon Musk                1697  "
      ]
     },
     "execution_count": 39,
     "metadata": {},
     "output_type": "execute_result"
    }
   ],
   "source": [
    "comments_by_video_ordered = comments_by_video.sort_values(by='conteo_comentarios', ascending=False)\n",
    "comments_by_video_ordered.head(10)"
   ]
  },
  {
   "cell_type": "code",
   "execution_count": 40,
   "metadata": {
    "colab": {
     "base_uri": "https://localhost:8080/",
     "height": 452
    },
    "executionInfo": {
     "elapsed": 778,
     "status": "ok",
     "timestamp": 1720567436010,
     "user": {
      "displayName": "Vladyslav Dodonov",
      "userId": "03989027945806646216"
     },
     "user_tz": -120
    },
    "id": "-vccrp34GtVS",
    "outputId": "d4da166b-936f-4020-e571-41ed013b77e5"
   },
   "outputs": [
    {
     "data": {
      "image/png": "[encoded data removed]",
      "text/plain": [
       "<Figure size 640x480 with 1 Axes>"
      ]
     },
     "metadata": {},
     "output_type": "display_data"
    }
   ],
   "source": [
    "comments_by_video['conteo_comentarios'].plot(kind='hist', bins=20, title='Cantidad de Comentarios por Video')\n",
    "plt.gca().spines[['top', 'right',]].set_visible(False)"
   ]
  },
  {
   "cell_type": "code",
   "execution_count": 41,
   "metadata": {
    "colab": {
     "base_uri": "https://localhost:8080/",
     "height": 175
    },
    "executionInfo": {
     "elapsed": 282,
     "status": "ok",
     "timestamp": 1720558958480,
     "user": {
      "displayName": "Vladyslav Dodonov",
      "userId": "03989027945806646216"
     },
     "user_tz": -120
    },
    "id": "w7z9HQCTHABt",
    "outputId": "89e5a449-82c8-4ca8-e686-90b30efeeb59"
   },
   "outputs": [
    {
     "data": {
      "text/html": [
       "<div>\n",
       "<style scoped>\n",
       "    .dataframe tbody tr th:only-of-type {\n",
       "        vertical-align: middle;\n",
       "    }\n",
       "\n",
       "    .dataframe tbody tr th {\n",
       "        vertical-align: top;\n",
       "    }\n",
       "\n",
       "    .dataframe thead th {\n",
       "        text-align: right;\n",
       "    }\n",
       "</style>\n",
       "<table border=\"1\" class=\"dataframe\">\n",
       "  <thead>\n",
       "    <tr style=\"text-align: right;\">\n",
       "      <th></th>\n",
       "      <th>channel_title</th>\n",
       "      <th>conteo_comentarios</th>\n",
       "    </tr>\n",
       "  </thead>\n",
       "  <tbody>\n",
       "    <tr>\n",
       "      <th>0</th>\n",
       "      <td>El Destape</td>\n",
       "      <td>10340</td>\n",
       "    </tr>\n",
       "    <tr>\n",
       "      <th>1</th>\n",
       "      <td>El Peluca Milei</td>\n",
       "      <td>35061</td>\n",
       "    </tr>\n",
       "    <tr>\n",
       "      <th>2</th>\n",
       "      <td>Infobae</td>\n",
       "      <td>73</td>\n",
       "    </tr>\n",
       "    <tr>\n",
       "      <th>3</th>\n",
       "      <td>LA NACION</td>\n",
       "      <td>16608</td>\n",
       "    </tr>\n",
       "    <tr>\n",
       "      <th>4</th>\n",
       "      <td>Pais De Boludos</td>\n",
       "      <td>2851</td>\n",
       "    </tr>\n",
       "    <tr>\n",
       "      <th>5</th>\n",
       "      <td>Revolución Popular Noticias</td>\n",
       "      <td>17261</td>\n",
       "    </tr>\n",
       "    <tr>\n",
       "      <th>6</th>\n",
       "      <td>Urgente Milei</td>\n",
       "      <td>4355</td>\n",
       "    </tr>\n",
       "  </tbody>\n",
       "</table>\n",
       "</div>"
      ],
      "text/plain": [
       "                 channel_title  conteo_comentarios\n",
       "0                   El Destape               10340\n",
       "1              El Peluca Milei               35061\n",
       "2                      Infobae                  73\n",
       "3                    LA NACION               16608\n",
       "4              Pais De Boludos                2851\n",
       "5  Revolución Popular Noticias               17261\n",
       "6                Urgente Milei                4355"
      ]
     },
     "execution_count": 41,
     "metadata": {},
     "output_type": "execute_result"
    }
   ],
   "source": [
    "comments_by_channel = comentarios_filtered_time.groupby('channel_title').size().reset_index(name='conteo_comentarios')\n",
    "comments_by_channel"
   ]
  },
  {
   "cell_type": "code",
   "execution_count": 42,
   "metadata": {
    "executionInfo": {
     "elapsed": 3,
     "status": "ok",
     "timestamp": 1720558961549,
     "user": {
      "displayName": "Vladyslav Dodonov",
      "userId": "03989027945806646216"
     },
     "user_tz": -120
    },
    "id": "YmVKa-1CHYrx"
   },
   "outputs": [
    {
     "data": {
      "text/html": [
       "<div>\n",
       "<style scoped>\n",
       "    .dataframe tbody tr th:only-of-type {\n",
       "        vertical-align: middle;\n",
       "    }\n",
       "\n",
       "    .dataframe tbody tr th {\n",
       "        vertical-align: top;\n",
       "    }\n",
       "\n",
       "    .dataframe thead th {\n",
       "        text-align: right;\n",
       "    }\n",
       "</style>\n",
       "<table border=\"1\" class=\"dataframe\">\n",
       "  <thead>\n",
       "    <tr style=\"text-align: right;\">\n",
       "      <th></th>\n",
       "      <th>tipo_evento</th>\n",
       "      <th>conteo_comentarios</th>\n",
       "    </tr>\n",
       "  </thead>\n",
       "  <tbody>\n",
       "    <tr>\n",
       "      <th>0</th>\n",
       "      <td>Desfavorable</td>\n",
       "      <td>51170</td>\n",
       "    </tr>\n",
       "    <tr>\n",
       "      <th>1</th>\n",
       "      <td>Favorable</td>\n",
       "      <td>22376</td>\n",
       "    </tr>\n",
       "    <tr>\n",
       "      <th>2</th>\n",
       "      <td>Neutral</td>\n",
       "      <td>13003</td>\n",
       "    </tr>\n",
       "  </tbody>\n",
       "</table>\n",
       "</div>"
      ],
      "text/plain": [
       "    tipo_evento  conteo_comentarios\n",
       "0  Desfavorable               51170\n",
       "1     Favorable               22376\n",
       "2       Neutral               13003"
      ]
     },
     "execution_count": 42,
     "metadata": {},
     "output_type": "execute_result"
    }
   ],
   "source": [
    "comments_by_event_type = comentarios_filtered_time.groupby('tipo_evento').size().reset_index(name='conteo_comentarios')\n",
    "comments_by_event_type"
   ]
  },
  {
   "cell_type": "code",
   "execution_count": 43,
   "metadata": {
    "executionInfo": {
     "elapsed": 268,
     "status": "ok",
     "timestamp": 1720567502569,
     "user": {
      "displayName": "Vladyslav Dodonov",
      "userId": "03989027945806646216"
     },
     "user_tz": -120
    },
    "id": "u6kApPz_Iaa9"
   },
   "outputs": [
    {
     "data": {
      "text/html": [
       "<div>\n",
       "<style scoped>\n",
       "    .dataframe tbody tr th:only-of-type {\n",
       "        vertical-align: middle;\n",
       "    }\n",
       "\n",
       "    .dataframe tbody tr th {\n",
       "        vertical-align: top;\n",
       "    }\n",
       "\n",
       "    .dataframe thead th {\n",
       "        text-align: right;\n",
       "    }\n",
       "</style>\n",
       "<table border=\"1\" class=\"dataframe\">\n",
       "  <thead>\n",
       "    <tr style=\"text-align: right;\">\n",
       "      <th></th>\n",
       "      <th>tipo_evento</th>\n",
       "      <th>evento</th>\n",
       "      <th>conteo_comentarios</th>\n",
       "    </tr>\n",
       "  </thead>\n",
       "  <tbody>\n",
       "    <tr>\n",
       "      <th>1</th>\n",
       "      <td>Desfavorable</td>\n",
       "      <td>Crisis diplomatica España</td>\n",
       "      <td>13617</td>\n",
       "    </tr>\n",
       "    <tr>\n",
       "      <th>0</th>\n",
       "      <td>Desfavorable</td>\n",
       "      <td>Crisis alimentos Capital Humano</td>\n",
       "      <td>12955</td>\n",
       "    </tr>\n",
       "    <tr>\n",
       "      <th>3</th>\n",
       "      <td>Desfavorable</td>\n",
       "      <td>Primer paro nacional</td>\n",
       "      <td>12314</td>\n",
       "    </tr>\n",
       "    <tr>\n",
       "      <th>2</th>\n",
       "      <td>Desfavorable</td>\n",
       "      <td>Marcha federal universitaria</td>\n",
       "      <td>12284</td>\n",
       "    </tr>\n",
       "    <tr>\n",
       "      <th>4</th>\n",
       "      <td>Favorable</td>\n",
       "      <td>Aprobación total Ley bases</td>\n",
       "      <td>10901</td>\n",
       "    </tr>\n",
       "    <tr>\n",
       "      <th>6</th>\n",
       "      <td>Favorable</td>\n",
       "      <td>Presentación de libro</td>\n",
       "      <td>7834</td>\n",
       "    </tr>\n",
       "    <tr>\n",
       "      <th>9</th>\n",
       "      <td>Neutral</td>\n",
       "      <td>24 de marzo</td>\n",
       "      <td>4931</td>\n",
       "    </tr>\n",
       "    <tr>\n",
       "      <th>10</th>\n",
       "      <td>Neutral</td>\n",
       "      <td>25 de mayo</td>\n",
       "      <td>4091</td>\n",
       "    </tr>\n",
       "    <tr>\n",
       "      <th>8</th>\n",
       "      <td>Neutral</td>\n",
       "      <td>20 de junio</td>\n",
       "      <td>3395</td>\n",
       "    </tr>\n",
       "    <tr>\n",
       "      <th>7</th>\n",
       "      <td>Favorable</td>\n",
       "      <td>Reunion con Elon Musk</td>\n",
       "      <td>2953</td>\n",
       "    </tr>\n",
       "    <tr>\n",
       "      <th>5</th>\n",
       "      <td>Favorable</td>\n",
       "      <td>Inflación abril</td>\n",
       "      <td>688</td>\n",
       "    </tr>\n",
       "    <tr>\n",
       "      <th>11</th>\n",
       "      <td>Neutral</td>\n",
       "      <td>8 de marzo</td>\n",
       "      <td>586</td>\n",
       "    </tr>\n",
       "  </tbody>\n",
       "</table>\n",
       "</div>"
      ],
      "text/plain": [
       "     tipo_evento                           evento  conteo_comentarios\n",
       "1   Desfavorable        Crisis diplomatica España               13617\n",
       "0   Desfavorable  Crisis alimentos Capital Humano               12955\n",
       "3   Desfavorable             Primer paro nacional               12314\n",
       "2   Desfavorable     Marcha federal universitaria               12284\n",
       "4      Favorable       Aprobación total Ley bases               10901\n",
       "6      Favorable            Presentación de libro                7834\n",
       "9        Neutral                      24 de marzo                4931\n",
       "10       Neutral                       25 de mayo                4091\n",
       "8        Neutral                      20 de junio                3395\n",
       "7      Favorable            Reunion con Elon Musk                2953\n",
       "5      Favorable                  Inflación abril                 688\n",
       "11       Neutral                       8 de marzo                 586"
      ]
     },
     "execution_count": 43,
     "metadata": {},
     "output_type": "execute_result"
    }
   ],
   "source": [
    "comments_by_event = comentarios_filtered_time.groupby(['tipo_evento', 'evento']).size().reset_index(name='conteo_comentarios')\n",
    "comments_by_event_ordered = comments_by_event.sort_values(by='conteo_comentarios', ascending=False)\n",
    "comments_by_event_ordered"
   ]
  },
  {
   "cell_type": "code",
   "execution_count": 44,
   "metadata": {
    "colab": {
     "base_uri": "https://localhost:8080/",
     "height": 677
    },
    "executionInfo": {
     "elapsed": 750,
     "status": "ok",
     "timestamp": 1720567619721,
     "user": {
      "displayName": "Vladyslav Dodonov",
      "userId": "03989027945806646216"
     },
     "user_tz": -120
    },
    "id": "9WYUrwyZRJNY",
    "outputId": "a34cdbd7-c316-42ef-bcc0-02a3ec0fed6a"
   },
   "outputs": [
    {
     "data": {
      "text/html": [
       "<div>\n",
       "<style scoped>\n",
       "    .dataframe tbody tr th:only-of-type {\n",
       "        vertical-align: middle;\n",
       "    }\n",
       "\n",
       "    .dataframe tbody tr th {\n",
       "        vertical-align: top;\n",
       "    }\n",
       "\n",
       "    .dataframe thead th {\n",
       "        text-align: right;\n",
       "    }\n",
       "</style>\n",
       "<table border=\"1\" class=\"dataframe\">\n",
       "  <thead>\n",
       "    <tr style=\"text-align: right;\">\n",
       "      <th></th>\n",
       "      <th>user_name</th>\n",
       "      <th>user_id</th>\n",
       "      <th>conteo_comentarios</th>\n",
       "    </tr>\n",
       "  </thead>\n",
       "  <tbody>\n",
       "    <tr>\n",
       "      <th>21275</th>\n",
       "      <td>@guybrushtreepwood2222</td>\n",
       "      <td>UCgVPTK68WIDP0da35S7UNiA</td>\n",
       "      <td>230</td>\n",
       "    </tr>\n",
       "    <tr>\n",
       "      <th>11183</th>\n",
       "      <td>@baltojuniorwolfer3662</td>\n",
       "      <td>UCEzdl0dzAKWsdrntNQep-Lw</td>\n",
       "      <td>94</td>\n",
       "    </tr>\n",
       "    <tr>\n",
       "      <th>14956</th>\n",
       "      <td>@daphnyhealoregon2596</td>\n",
       "      <td>UCvepJg-HHV0Ev9m3sLPNpIA</td>\n",
       "      <td>86</td>\n",
       "    </tr>\n",
       "    <tr>\n",
       "      <th>26841</th>\n",
       "      <td>@leonardoiglesias2394</td>\n",
       "      <td>UCKBW-hWuHxF-DBsnCtFmToQ</td>\n",
       "      <td>75</td>\n",
       "    </tr>\n",
       "    <tr>\n",
       "      <th>5789</th>\n",
       "      <td>@PabloPerez-ed9gp</td>\n",
       "      <td>UClR0bbvHrDGQHRjtiMfhXKw</td>\n",
       "      <td>75</td>\n",
       "    </tr>\n",
       "    <tr>\n",
       "      <th>6372</th>\n",
       "      <td>@RoseRoses-ne2kr</td>\n",
       "      <td>UCjmMhpWTNotA9lcj1t39YBA</td>\n",
       "      <td>74</td>\n",
       "    </tr>\n",
       "    <tr>\n",
       "      <th>29564</th>\n",
       "      <td>@marcosgonzalez1611</td>\n",
       "      <td>UC1njhKhr6dNrH0VKaQ5qaaA</td>\n",
       "      <td>73</td>\n",
       "    </tr>\n",
       "    <tr>\n",
       "      <th>16318</th>\n",
       "      <td>@eduardouncos1508</td>\n",
       "      <td>UC4XnpYtpqWlv1mLfxUY4dgg</td>\n",
       "      <td>72</td>\n",
       "    </tr>\n",
       "    <tr>\n",
       "      <th>20400</th>\n",
       "      <td>@gonzalo1132</td>\n",
       "      <td>UCIyMSvejoJXiytrn3Ww3hyA</td>\n",
       "      <td>70</td>\n",
       "    </tr>\n",
       "    <tr>\n",
       "      <th>7756</th>\n",
       "      <td>@adrianadiaz3124</td>\n",
       "      <td>UCyhFDiVzgM73JGdtze8g1Fw</td>\n",
       "      <td>69</td>\n",
       "    </tr>\n",
       "    <tr>\n",
       "      <th>24594</th>\n",
       "      <td>@josemarcelo4961</td>\n",
       "      <td>UCxFU1gqdkhEgAPnCUZI4dQQ</td>\n",
       "      <td>68</td>\n",
       "    </tr>\n",
       "    <tr>\n",
       "      <th>35877</th>\n",
       "      <td>@pablosegobia2565</td>\n",
       "      <td>UCbqgSFcHXMoAA_m8naZ_XZA</td>\n",
       "      <td>68</td>\n",
       "    </tr>\n",
       "    <tr>\n",
       "      <th>24637</th>\n",
       "      <td>@josemiguelmonardesmuller</td>\n",
       "      <td>UCZPrZeWUCgwEak8Wkb79N1Q</td>\n",
       "      <td>60</td>\n",
       "    </tr>\n",
       "    <tr>\n",
       "      <th>24260</th>\n",
       "      <td>@josebraghini5875</td>\n",
       "      <td>UCBCfYZ0r_m1Z5YwFHGnOmww</td>\n",
       "      <td>60</td>\n",
       "    </tr>\n",
       "    <tr>\n",
       "      <th>37262</th>\n",
       "      <td>@ramoneduardo-xu4zg</td>\n",
       "      <td>UCoTR7ZzX5PNAMN5XW0iaOwg</td>\n",
       "      <td>55</td>\n",
       "    </tr>\n",
       "    <tr>\n",
       "      <th>14000</th>\n",
       "      <td>@crisamis3679</td>\n",
       "      <td>UCN7UIcobuCGi7oHFPi8kYSQ</td>\n",
       "      <td>55</td>\n",
       "    </tr>\n",
       "    <tr>\n",
       "      <th>12226</th>\n",
       "      <td>@carloscorrea2293</td>\n",
       "      <td>UCfJDNbt4LJ5eiD57-PdkplA</td>\n",
       "      <td>54</td>\n",
       "    </tr>\n",
       "    <tr>\n",
       "      <th>37875</th>\n",
       "      <td>@ricardosantiagoritru7699</td>\n",
       "      <td>UCnu_ZICb134Bw3-omQajsww</td>\n",
       "      <td>53</td>\n",
       "    </tr>\n",
       "    <tr>\n",
       "      <th>19140</th>\n",
       "      <td>@franciscoespinoza9911</td>\n",
       "      <td>UC9Zi9-6qR7lYTum2q9FtJqw</td>\n",
       "      <td>53</td>\n",
       "    </tr>\n",
       "    <tr>\n",
       "      <th>37484</th>\n",
       "      <td>@raulnicolaueffgen5655</td>\n",
       "      <td>UCXTKRC3NN1mRWCAPKryZ-iA</td>\n",
       "      <td>53</td>\n",
       "    </tr>\n",
       "  </tbody>\n",
       "</table>\n",
       "</div>"
      ],
      "text/plain": [
       "                       user_name                   user_id  conteo_comentarios\n",
       "21275     @guybrushtreepwood2222  UCgVPTK68WIDP0da35S7UNiA                 230\n",
       "11183     @baltojuniorwolfer3662  UCEzdl0dzAKWsdrntNQep-Lw                  94\n",
       "14956      @daphnyhealoregon2596  UCvepJg-HHV0Ev9m3sLPNpIA                  86\n",
       "26841      @leonardoiglesias2394  UCKBW-hWuHxF-DBsnCtFmToQ                  75\n",
       "5789           @PabloPerez-ed9gp  UClR0bbvHrDGQHRjtiMfhXKw                  75\n",
       "6372            @RoseRoses-ne2kr  UCjmMhpWTNotA9lcj1t39YBA                  74\n",
       "29564        @marcosgonzalez1611  UC1njhKhr6dNrH0VKaQ5qaaA                  73\n",
       "16318          @eduardouncos1508  UC4XnpYtpqWlv1mLfxUY4dgg                  72\n",
       "20400               @gonzalo1132  UCIyMSvejoJXiytrn3Ww3hyA                  70\n",
       "7756            @adrianadiaz3124  UCyhFDiVzgM73JGdtze8g1Fw                  69\n",
       "24594           @josemarcelo4961  UCxFU1gqdkhEgAPnCUZI4dQQ                  68\n",
       "35877          @pablosegobia2565  UCbqgSFcHXMoAA_m8naZ_XZA                  68\n",
       "24637  @josemiguelmonardesmuller  UCZPrZeWUCgwEak8Wkb79N1Q                  60\n",
       "24260          @josebraghini5875  UCBCfYZ0r_m1Z5YwFHGnOmww                  60\n",
       "37262        @ramoneduardo-xu4zg  UCoTR7ZzX5PNAMN5XW0iaOwg                  55\n",
       "14000              @crisamis3679  UCN7UIcobuCGi7oHFPi8kYSQ                  55\n",
       "12226          @carloscorrea2293  UCfJDNbt4LJ5eiD57-PdkplA                  54\n",
       "37875  @ricardosantiagoritru7699  UCnu_ZICb134Bw3-omQajsww                  53\n",
       "19140     @franciscoespinoza9911  UC9Zi9-6qR7lYTum2q9FtJqw                  53\n",
       "37484     @raulnicolaueffgen5655  UCXTKRC3NN1mRWCAPKryZ-iA                  53"
      ]
     },
     "execution_count": 44,
     "metadata": {},
     "output_type": "execute_result"
    }
   ],
   "source": [
    "comments_by_user = comentarios_filtered_time.groupby(['user_name', 'user_id']).size().reset_index(name='conteo_comentarios')\n",
    "comments_by_user_ordered = comments_by_user.sort_values(by='conteo_comentarios', ascending=False)\n",
    "comments_by_user_ordered.head(20)"
   ]
  },
  {
   "cell_type": "code",
   "execution_count": 45,
   "metadata": {
    "colab": {
     "base_uri": "https://localhost:8080/",
     "height": 607
    },
    "executionInfo": {
     "elapsed": 691,
     "status": "ok",
     "timestamp": 1720558973686,
     "user": {
      "displayName": "Vladyslav Dodonov",
      "userId": "03989027945806646216"
     },
     "user_tz": -120
    },
    "id": "E0Z0QNBAR4Iw",
    "outputId": "b47d9b08-c696-49b8-ac1c-b489745025dc"
   },
   "outputs": [
    {
     "name": "stdout",
     "output_type": "stream",
     "text": [
      "Usuarios que se consideran como outliers (el 0,1% con más comentarios): 46\n",
      "Umbral de comentarios para ser considerados outliers: 32.0\n",
      "El 2.91% de los comentarios provienen de los 46 usuarios más activos (outliers).\n"
     ]
    }
   ],
   "source": [
    "# Group by user_id and count the number of comments\n",
    "comments_by_user = comentarios_filtered_time.groupby('user_id').size().reset_index(name='conteo_comentarios')\n",
    "\n",
    "# Calcular el percentil 99 (es decir, el 1% de los usuarios con más comentarios)\n",
    "percentil_999 = np.percentile(comments_by_user['conteo_comentarios'], 99.9)\n",
    "\n",
    "# Filtrar los usuarios que están por encima del percentil 99 (los \"outliers\")\n",
    "outliers = comments_by_user[comments_by_user['conteo_comentarios'] > percentil_999]\n",
    "\n",
    "# Calcular el total de comentarios\n",
    "total_comentarios = comments_by_user['conteo_comentarios'].sum()\n",
    "\n",
    "# Calcular el total de comentarios de los outliers\n",
    "total_outliers_comentarios = outliers['conteo_comentarios'].sum()\n",
    "\n",
    "# Calcular el porcentaje de comentarios de los outliers\n",
    "porcentaje_outliers = (total_outliers_comentarios / total_comentarios) * 100\n",
    "\n",
    "\n",
    "# Mostrar cuántos usuarios son considerados outliers\n",
    "print(f\"Usuarios que se consideran como outliers (el 0,1% con más comentarios): {len(outliers)}\")\n",
    "print(f\"Umbral de comentarios para ser considerados outliers: {percentil_999}\")\n",
    "print(f\"El {porcentaje_outliers:.2f}% de los comentarios provienen de los {len(outliers)} usuarios más activos (outliers).\")\n",
    "\n",
    "\n"
   ]
  },
  {
   "cell_type": "code",
   "execution_count": 46,
   "metadata": {},
   "outputs": [
    {
     "data": {
      "image/png": "[encoded data removed]",
      "text/plain": [
       "<Figure size 1200x600 with 1 Axes>"
      ]
     },
     "metadata": {},
     "output_type": "display_data"
    }
   ],
   "source": [
    "# Agrupar usuarios en rangos de comentarios\n",
    "bins = [1, 2, 5, 10, 20, 50, 100, 200, 500]\n",
    "labels = ['1-2', '3-5', '6-10', '11-20', '21-50', '51-100', '101-200', '201-500']\n",
    "\n",
    "# Crear una nueva columna con los rangos\n",
    "comments_by_user['range'] = pd.cut(comments_by_user['conteo_comentarios'], bins=bins, labels=labels)\n",
    "\n",
    "# Contar cuántos usuarios hay en cada rango\n",
    "comments_by_user_grouped = comments_by_user['range'].value_counts().sort_index()\n",
    "\n",
    "# Graficar la distribución de comentarios por rango\n",
    "plt.figure(figsize=(12, 6))\n",
    "comments_by_user_grouped.plot(kind='bar', color='c', edgecolor='black', alpha=0.7)\n",
    "\n",
    "# Títulos y etiquetas\n",
    "plt.title('Distribución de Comentarios por Rango de Usuarios')\n",
    "plt.xlabel('Rango de Número de Comentarios')\n",
    "plt.ylabel('Número de Usuarios')\n",
    "plt.grid(True)\n",
    "plt.tight_layout()\n",
    "plt.show()\n"
   ]
  },
  {
   "cell_type": "code",
   "execution_count": 47,
   "metadata": {
    "colab": {
     "base_uri": "https://localhost:8080/",
     "height": 363
    },
    "executionInfo": {
     "elapsed": 761,
     "status": "ok",
     "timestamp": 1720568641524,
     "user": {
      "displayName": "Vladyslav Dodonov",
      "userId": "03989027945806646216"
     },
     "user_tz": -120
    },
    "id": "1gq2QGtj3NpI",
    "outputId": "3e710b18-591e-4abe-a1cf-88e933bfe832"
   },
   "outputs": [
    {
     "data": {
      "text/html": [
       "<div>\n",
       "<style scoped>\n",
       "    .dataframe tbody tr th:only-of-type {\n",
       "        vertical-align: middle;\n",
       "    }\n",
       "\n",
       "    .dataframe tbody tr th {\n",
       "        vertical-align: top;\n",
       "    }\n",
       "\n",
       "    .dataframe thead th {\n",
       "        text-align: right;\n",
       "    }\n",
       "</style>\n",
       "<table border=\"1\" class=\"dataframe\">\n",
       "  <thead>\n",
       "    <tr style=\"text-align: right;\">\n",
       "      <th></th>\n",
       "      <th>comment</th>\n",
       "      <th>conteo_comentarios</th>\n",
       "    </tr>\n",
       "  </thead>\n",
       "  <tbody>\n",
       "    <tr>\n",
       "      <th>81221</th>\n",
       "      <td>❤</td>\n",
       "      <td>126</td>\n",
       "    </tr>\n",
       "    <tr>\n",
       "      <th>81375</th>\n",
       "      <td>❤❤❤</td>\n",
       "      <td>57</td>\n",
       "    </tr>\n",
       "    <tr>\n",
       "      <th>82655</th>\n",
       "      <td>😂😂😂</td>\n",
       "      <td>54</td>\n",
       "    </tr>\n",
       "    <tr>\n",
       "      <th>82509</th>\n",
       "      <td>😂</td>\n",
       "      <td>50</td>\n",
       "    </tr>\n",
       "    <tr>\n",
       "      <th>68633</th>\n",
       "      <td>VLLC</td>\n",
       "      <td>47</td>\n",
       "    </tr>\n",
       "    <tr>\n",
       "      <th>82777</th>\n",
       "      <td>😂😂😂😂</td>\n",
       "      <td>44</td>\n",
       "    </tr>\n",
       "    <tr>\n",
       "      <th>81412</th>\n",
       "      <td>❤❤❤❤</td>\n",
       "      <td>38</td>\n",
       "    </tr>\n",
       "    <tr>\n",
       "      <th>25793</th>\n",
       "      <td>Excelente</td>\n",
       "      <td>33</td>\n",
       "    </tr>\n",
       "    <tr>\n",
       "      <th>82898</th>\n",
       "      <td>😂😂😂😂😂😂</td>\n",
       "      <td>31</td>\n",
       "    </tr>\n",
       "    <tr>\n",
       "      <th>82101</th>\n",
       "      <td>👏👏👏</td>\n",
       "      <td>31</td>\n",
       "    </tr>\n",
       "  </tbody>\n",
       "</table>\n",
       "</div>"
      ],
      "text/plain": [
       "         comment  conteo_comentarios\n",
       "81221          ❤                 126\n",
       "81375        ❤❤❤                  57\n",
       "82655        😂😂😂                  54\n",
       "82509          😂                  50\n",
       "68633       VLLC                  47\n",
       "82777       😂😂😂😂                  44\n",
       "81412       ❤❤❤❤                  38\n",
       "25793  Excelente                  33\n",
       "82898     😂😂😂😂😂😂                  31\n",
       "82101        👏👏👏                  31"
      ]
     },
     "execution_count": 47,
     "metadata": {},
     "output_type": "execute_result"
    }
   ],
   "source": [
    "repeated_comments = comentarios_filtered_time.groupby('comment').size().reset_index(name='conteo_comentarios')\n",
    "\n",
    "repeated_comments_ordered = repeated_comments.sort_values(by='conteo_comentarios', ascending=False)\n",
    "repeated_comments_ordered.head(10)"
   ]
  },
  {
   "cell_type": "code",
   "execution_count": 48,
   "metadata": {
    "colab": {
     "base_uri": "https://localhost:8080/",
     "height": 677
    },
    "executionInfo": {
     "elapsed": 1309,
     "status": "ok",
     "timestamp": 1720568848234,
     "user": {
      "displayName": "Vladyslav Dodonov",
      "userId": "03989027945806646216"
     },
     "user_tz": -120
    },
    "id": "P2OMYwb_4JNr",
    "outputId": "f9b8e450-e9a5-4205-9978-a359604e158b"
   },
   "outputs": [
    {
     "data": {
      "text/html": [
       "<div>\n",
       "<style scoped>\n",
       "    .dataframe tbody tr th:only-of-type {\n",
       "        vertical-align: middle;\n",
       "    }\n",
       "\n",
       "    .dataframe tbody tr th {\n",
       "        vertical-align: top;\n",
       "    }\n",
       "\n",
       "    .dataframe thead th {\n",
       "        text-align: right;\n",
       "    }\n",
       "</style>\n",
       "<table border=\"1\" class=\"dataframe\">\n",
       "  <thead>\n",
       "    <tr style=\"text-align: right;\">\n",
       "      <th></th>\n",
       "      <th>comment</th>\n",
       "      <th>conteo_comentarios</th>\n",
       "    </tr>\n",
       "  </thead>\n",
       "  <tbody>\n",
       "    <tr>\n",
       "      <th>69712</th>\n",
       "      <td>Viva la libertad carajo</td>\n",
       "      <td>31</td>\n",
       "    </tr>\n",
       "    <tr>\n",
       "      <th>948</th>\n",
       "      <td>&lt;a href=\"http://www.youtube.com/results?search...</td>\n",
       "      <td>30</td>\n",
       "    </tr>\n",
       "    <tr>\n",
       "      <th>29386</th>\n",
       "      <td>Grande Milei</td>\n",
       "      <td>25</td>\n",
       "    </tr>\n",
       "    <tr>\n",
       "      <th>57409</th>\n",
       "      <td>RESOLVE LA INSEGURIDAD PELOUDO NO TE VALLAS A ...</td>\n",
       "      <td>17</td>\n",
       "    </tr>\n",
       "    <tr>\n",
       "      <th>69654</th>\n",
       "      <td>Viva la libertad</td>\n",
       "      <td>15</td>\n",
       "    </tr>\n",
       "    <tr>\n",
       "      <th>75520</th>\n",
       "      <td>para mi es un payaso hablan tantp de los rojos...</td>\n",
       "      <td>15</td>\n",
       "    </tr>\n",
       "    <tr>\n",
       "      <th>12827</th>\n",
       "      <td>Cristina no vuelve nunca mas ya fue!!!!</td>\n",
       "      <td>14</td>\n",
       "    </tr>\n",
       "    <tr>\n",
       "      <th>33205</th>\n",
       "      <td>Jhon Perkins confesiones de un Ganster Econòmi...</td>\n",
       "      <td>14</td>\n",
       "    </tr>\n",
       "    <tr>\n",
       "      <th>67221</th>\n",
       "      <td>VIVA LA LIBERTAD CARAJO</td>\n",
       "      <td>13</td>\n",
       "    </tr>\n",
       "    <tr>\n",
       "      <th>946</th>\n",
       "      <td>&lt;a href=\"http://www.youtube.com/results?search...</td>\n",
       "      <td>12</td>\n",
       "    </tr>\n",
       "    <tr>\n",
       "      <th>69319</th>\n",
       "      <td>Viva Milei</td>\n",
       "      <td>11</td>\n",
       "    </tr>\n",
       "    <tr>\n",
       "      <th>959</th>\n",
       "      <td>&lt;a href=\"http://www.youtube.com/results?search...</td>\n",
       "      <td>11</td>\n",
       "    </tr>\n",
       "    <tr>\n",
       "      <th>69750</th>\n",
       "      <td>Viva la libertad carajo!</td>\n",
       "      <td>11</td>\n",
       "    </tr>\n",
       "    <tr>\n",
       "      <th>4333</th>\n",
       "      <td>@Helechoskoru:con los desmadres ayer los KUKAS...</td>\n",
       "      <td>11</td>\n",
       "    </tr>\n",
       "    <tr>\n",
       "      <th>27108</th>\n",
       "      <td>Fuera kircho!!!!!!!!!!! vaya con su &amp;quot;cond...</td>\n",
       "      <td>11</td>\n",
       "    </tr>\n",
       "    <tr>\n",
       "      <th>29760</th>\n",
       "      <td>Grande milei</td>\n",
       "      <td>10</td>\n",
       "    </tr>\n",
       "    <tr>\n",
       "      <th>47822</th>\n",
       "      <td>Nuestro &amp;quot;PINOCHO&amp;quot; (milei) se olvido ...</td>\n",
       "      <td>10</td>\n",
       "    </tr>\n",
       "    <tr>\n",
       "      <th>68302</th>\n",
       "      <td>Vamos milei</td>\n",
       "      <td>10</td>\n",
       "    </tr>\n",
       "    <tr>\n",
       "      <th>22363</th>\n",
       "      <td>Esa vieja no vuelve más!!!!!</td>\n",
       "      <td>10</td>\n",
       "    </tr>\n",
       "    <tr>\n",
       "      <th>27130</th>\n",
       "      <td>Fuera milei</td>\n",
       "      <td>10</td>\n",
       "    </tr>\n",
       "  </tbody>\n",
       "</table>\n",
       "</div>"
      ],
      "text/plain": [
       "                                                 comment  conteo_comentarios\n",
       "69712                            Viva la libertad carajo                  31\n",
       "948    <a href=\"http://www.youtube.com/results?search...                  30\n",
       "29386                                       Grande Milei                  25\n",
       "57409  RESOLVE LA INSEGURIDAD PELOUDO NO TE VALLAS A ...                  17\n",
       "69654                                   Viva la libertad                  15\n",
       "75520  para mi es un payaso hablan tantp de los rojos...                  15\n",
       "12827            Cristina no vuelve nunca mas ya fue!!!!                  14\n",
       "33205  Jhon Perkins confesiones de un Ganster Econòmi...                  14\n",
       "67221                            VIVA LA LIBERTAD CARAJO                  13\n",
       "946    <a href=\"http://www.youtube.com/results?search...                  12\n",
       "69319                                         Viva Milei                  11\n",
       "959    <a href=\"http://www.youtube.com/results?search...                  11\n",
       "69750                           Viva la libertad carajo!                  11\n",
       "4333   @Helechoskoru:con los desmadres ayer los KUKAS...                  11\n",
       "27108  Fuera kircho!!!!!!!!!!! vaya con su &quot;cond...                  11\n",
       "29760                                       Grande milei                  10\n",
       "47822  Nuestro &quot;PINOCHO&quot; (milei) se olvido ...                  10\n",
       "68302                                        Vamos milei                  10\n",
       "22363                       Esa vieja no vuelve más!!!!!                  10\n",
       "27130                                        Fuera milei                  10"
      ]
     },
     "execution_count": 48,
     "metadata": {},
     "output_type": "execute_result"
    }
   ],
   "source": [
    "# Define a function to filter out comments that are just emojis or single words\n",
    "def filter_comments(comment):\n",
    "    # Check if the comment is a single word\n",
    "    if len(comment.split()) <= 1:\n",
    "        # Check if the single word is an emoji (emojis are typically unicode characters beyond the Basic Multilingual Plane)\n",
    "        emoji_pattern = re.compile(\"[\"\n",
    "            u\"\\U0001F600-\\U0001F64F\"  # emoticons\n",
    "            u\"\\U0001F300-\\U0001F5FF\"  # symbols & pictographs\n",
    "            u\"\\U0001F680-\\U0001F6FF\"  # transport & map symbols\n",
    "            u\"\\U0001F1E0-\\U0001F1FF\"  # flags (iOS)\n",
    "            \"]+\", flags=re.UNICODE)\n",
    "        if emoji_pattern.match(comment):\n",
    "            return False\n",
    "        else:\n",
    "            return False\n",
    "    return True\n",
    "\n",
    "# Filter the DataFrame\n",
    "filtered_df = comentarios_filtered_time[comentarios_filtered_time['comment'].apply(filter_comments)]\n",
    "\n",
    "# Group by comment to count occurrences\n",
    "repeated_comments = filtered_df.groupby('comment').size().reset_index(name='conteo_comentarios')\n",
    "\n",
    "# Sort by comment_count in descending order\n",
    "repeated_comments_ordered = repeated_comments.sort_values(by='conteo_comentarios', ascending=False)\n",
    "\n",
    "# Display the top 20 comments\n",
    "repeated_comments_ordered.head(20)"
   ]
  },
  {
   "cell_type": "code",
   "execution_count": 70,
   "metadata": {
    "colab": {
     "base_uri": "https://localhost:8080/",
     "height": 175
    },
    "executionInfo": {
     "elapsed": 348,
     "status": "ok",
     "timestamp": 1720558995597,
     "user": {
      "displayName": "Vladyslav Dodonov",
      "userId": "03989027945806646216"
     },
     "user_tz": -120
    },
    "id": "-r67woXet9xe",
    "outputId": "ba7ee518-84ff-42fe-9d4b-db15dd58a6d4"
   },
   "outputs": [
    {
     "data": {
      "text/html": [
       "<div>\n",
       "<style scoped>\n",
       "    .dataframe tbody tr th:only-of-type {\n",
       "        vertical-align: middle;\n",
       "    }\n",
       "\n",
       "    .dataframe tbody tr th {\n",
       "        vertical-align: top;\n",
       "    }\n",
       "\n",
       "    .dataframe thead th {\n",
       "        text-align: right;\n",
       "    }\n",
       "</style>\n",
       "<table border=\"1\" class=\"dataframe\">\n",
       "  <thead>\n",
       "    <tr style=\"text-align: right;\">\n",
       "      <th></th>\n",
       "      <th>channel_title</th>\n",
       "      <th>% de Usuarios con más de un comentario</th>\n",
       "    </tr>\n",
       "  </thead>\n",
       "  <tbody>\n",
       "    <tr>\n",
       "      <th>0</th>\n",
       "      <td>El Destape</td>\n",
       "      <td>21.8</td>\n",
       "    </tr>\n",
       "    <tr>\n",
       "      <th>1</th>\n",
       "      <td>El Peluca Milei</td>\n",
       "      <td>17.1</td>\n",
       "    </tr>\n",
       "    <tr>\n",
       "      <th>2</th>\n",
       "      <td>Infobae</td>\n",
       "      <td>21.2</td>\n",
       "    </tr>\n",
       "    <tr>\n",
       "      <th>3</th>\n",
       "      <td>LA NACION</td>\n",
       "      <td>22.2</td>\n",
       "    </tr>\n",
       "    <tr>\n",
       "      <th>4</th>\n",
       "      <td>Pais De Boludos</td>\n",
       "      <td>14.0</td>\n",
       "    </tr>\n",
       "    <tr>\n",
       "      <th>5</th>\n",
       "      <td>Revolución Popular Noticias</td>\n",
       "      <td>19.4</td>\n",
       "    </tr>\n",
       "    <tr>\n",
       "      <th>6</th>\n",
       "      <td>Urgente Milei</td>\n",
       "      <td>12.3</td>\n",
       "    </tr>\n",
       "  </tbody>\n",
       "</table>\n",
       "</div>"
      ],
      "text/plain": [
       "                 channel_title  % de Usuarios con más de un comentario\n",
       "0                   El Destape                                    21.8\n",
       "1              El Peluca Milei                                    17.1\n",
       "2                      Infobae                                    21.2\n",
       "3                    LA NACION                                    22.2\n",
       "4              Pais De Boludos                                    14.0\n",
       "5  Revolución Popular Noticias                                    19.4\n",
       "6                Urgente Milei                                    12.3"
      ]
     },
     "execution_count": 70,
     "metadata": {},
     "output_type": "execute_result"
    }
   ],
   "source": [
    "def calculate_users_with_multiple_comments_per_video(df):\n",
    "    grouped = df.groupby(['channel_title', 'video_title', 'user_id']).size().reset_index(name='conteo_comentarios')\n",
    "    multiple_comments = grouped[grouped['conteo_comentarios'] > 1]\n",
    "    percentage = multiple_comments.groupby('channel_title')['user_id'].nunique() / df.groupby('channel_title')['user_id'].nunique() * 100\n",
    "    # Redondear a 1 decimal\n",
    "    percentage = percentage.round(1)\n",
    "    # Convertir a porcentaje con un solo decimal\n",
    "    return percentage.reset_index(name='% de Usuarios con más de un comentario')\n",
    "\n",
    "# Load the dataframe\n",
    "df = comentarios_filtered_time\n",
    "\n",
    "# Calculate the metric\n",
    "users_with_multiple_comments_per_video = calculate_users_with_multiple_comments_per_video(df)\n",
    "\n",
    "# Display the result as a table\n",
    "users_with_multiple_comments_per_video\n"
   ]
  },
  {
   "cell_type": "code",
   "execution_count": 74,
   "metadata": {
    "colab": {
     "base_uri": "https://localhost:8080/",
     "height": 638
    },
    "executionInfo": {
     "elapsed": 788,
     "status": "ok",
     "timestamp": 1720558998454,
     "user": {
      "displayName": "Vladyslav Dodonov",
      "userId": "03989027945806646216"
     },
     "user_tz": -120
    },
    "id": "_u-YwXoGuZxD",
    "outputId": "098dbcf0-6137-498e-a779-e223adb9c2d1"
   },
   "outputs": [
    {
     "data": {
      "image/png": "[encoded data removed]",
      "text/plain": [
       "<Figure size 1000x600 with 1 Axes>"
      ]
     },
     "metadata": {},
     "output_type": "display_data"
    }
   ],
   "source": [
    "def plot_users_with_multiple_comments_per_video(data):\n",
    "    plt.figure(figsize=(10, 6))\n",
    "    sns.barplot(x='channel_title', y='% de Usuarios con más de un comentario', data=data)\n",
    "    plt.title('% de Usuarios con más de un comentario por Canal')\n",
    "    plt.xlabel('Titulo del Canal')\n",
    "    plt.ylabel('Porcentaje')\n",
    "    plt.xticks(rotation=45)\n",
    "    plt.show()\n",
    "\n",
    "# Plot the visualization\n",
    "plot_users_with_multiple_comments_per_video(users_with_multiple_comments_per_video)\n"
   ]
  },
  {
   "cell_type": "code",
   "execution_count": 75,
   "metadata": {
    "executionInfo": {
     "elapsed": 708,
     "status": "ok",
     "timestamp": 1720559101935,
     "user": {
      "displayName": "Vladyslav Dodonov",
      "userId": "03989027945806646216"
     },
     "user_tz": -120
    },
    "id": "66CLRjxQSnx2"
   },
   "outputs": [
    {
     "data": {
      "text/html": [
       "<div>\n",
       "<style scoped>\n",
       "    .dataframe tbody tr th:only-of-type {\n",
       "        vertical-align: middle;\n",
       "    }\n",
       "\n",
       "    .dataframe tbody tr th {\n",
       "        vertical-align: top;\n",
       "    }\n",
       "\n",
       "    .dataframe thead th {\n",
       "        text-align: right;\n",
       "    }\n",
       "</style>\n",
       "<table border=\"1\" class=\"dataframe\">\n",
       "  <thead>\n",
       "    <tr style=\"text-align: right;\">\n",
       "      <th></th>\n",
       "      <th>channel_title</th>\n",
       "      <th>is_top_level_comment</th>\n",
       "      <th>%_usuarios_con_multiples_comentarios_por_video</th>\n",
       "    </tr>\n",
       "  </thead>\n",
       "  <tbody>\n",
       "    <tr>\n",
       "      <th>0</th>\n",
       "      <td>El Destape</td>\n",
       "      <td>False</td>\n",
       "      <td>33.6</td>\n",
       "    </tr>\n",
       "    <tr>\n",
       "      <th>1</th>\n",
       "      <td>El Destape</td>\n",
       "      <td>True</td>\n",
       "      <td>13.0</td>\n",
       "    </tr>\n",
       "    <tr>\n",
       "      <th>2</th>\n",
       "      <td>El Peluca Milei</td>\n",
       "      <td>False</td>\n",
       "      <td>27.4</td>\n",
       "    </tr>\n",
       "    <tr>\n",
       "      <th>3</th>\n",
       "      <td>El Peluca Milei</td>\n",
       "      <td>True</td>\n",
       "      <td>11.9</td>\n",
       "    </tr>\n",
       "    <tr>\n",
       "      <th>4</th>\n",
       "      <td>Infobae</td>\n",
       "      <td>False</td>\n",
       "      <td>38.9</td>\n",
       "    </tr>\n",
       "    <tr>\n",
       "      <th>5</th>\n",
       "      <td>Infobae</td>\n",
       "      <td>True</td>\n",
       "      <td>7.7</td>\n",
       "    </tr>\n",
       "    <tr>\n",
       "      <th>6</th>\n",
       "      <td>LA NACION</td>\n",
       "      <td>False</td>\n",
       "      <td>32.9</td>\n",
       "    </tr>\n",
       "    <tr>\n",
       "      <th>7</th>\n",
       "      <td>LA NACION</td>\n",
       "      <td>True</td>\n",
       "      <td>12.4</td>\n",
       "    </tr>\n",
       "    <tr>\n",
       "      <th>8</th>\n",
       "      <td>Pais De Boludos</td>\n",
       "      <td>False</td>\n",
       "      <td>30.2</td>\n",
       "    </tr>\n",
       "    <tr>\n",
       "      <th>9</th>\n",
       "      <td>Pais De Boludos</td>\n",
       "      <td>True</td>\n",
       "      <td>7.1</td>\n",
       "    </tr>\n",
       "    <tr>\n",
       "      <th>10</th>\n",
       "      <td>Revolución Popular Noticias</td>\n",
       "      <td>False</td>\n",
       "      <td>35.3</td>\n",
       "    </tr>\n",
       "    <tr>\n",
       "      <th>11</th>\n",
       "      <td>Revolución Popular Noticias</td>\n",
       "      <td>True</td>\n",
       "      <td>9.1</td>\n",
       "    </tr>\n",
       "    <tr>\n",
       "      <th>12</th>\n",
       "      <td>Urgente Milei</td>\n",
       "      <td>False</td>\n",
       "      <td>25.7</td>\n",
       "    </tr>\n",
       "    <tr>\n",
       "      <th>13</th>\n",
       "      <td>Urgente Milei</td>\n",
       "      <td>True</td>\n",
       "      <td>8.1</td>\n",
       "    </tr>\n",
       "  </tbody>\n",
       "</table>\n",
       "</div>"
      ],
      "text/plain": [
       "                  channel_title  is_top_level_comment  \\\n",
       "0                    El Destape                 False   \n",
       "1                    El Destape                  True   \n",
       "2               El Peluca Milei                 False   \n",
       "3               El Peluca Milei                  True   \n",
       "4                       Infobae                 False   \n",
       "5                       Infobae                  True   \n",
       "6                     LA NACION                 False   \n",
       "7                     LA NACION                  True   \n",
       "8               Pais De Boludos                 False   \n",
       "9               Pais De Boludos                  True   \n",
       "10  Revolución Popular Noticias                 False   \n",
       "11  Revolución Popular Noticias                  True   \n",
       "12                Urgente Milei                 False   \n",
       "13                Urgente Milei                  True   \n",
       "\n",
       "    %_usuarios_con_multiples_comentarios_por_video  \n",
       "0                                             33.6  \n",
       "1                                             13.0  \n",
       "2                                             27.4  \n",
       "3                                             11.9  \n",
       "4                                             38.9  \n",
       "5                                              7.7  \n",
       "6                                             32.9  \n",
       "7                                             12.4  \n",
       "8                                             30.2  \n",
       "9                                              7.1  \n",
       "10                                            35.3  \n",
       "11                                             9.1  \n",
       "12                                            25.7  \n",
       "13                                             8.1  "
      ]
     },
     "execution_count": 75,
     "metadata": {},
     "output_type": "execute_result"
    }
   ],
   "source": [
    "def calculate_users_with_multiple_comments_per_video(df):\n",
    "    grouped = df.groupby(['channel_title', 'video_title', 'user_id', 'is_top_level_comment']).size().reset_index(name='comment_count')\n",
    "    multiple_comments = grouped[grouped['comment_count'] > 1]\n",
    "    percentage = multiple_comments.groupby(['channel_title', 'is_top_level_comment'])['user_id'].nunique() / df.groupby(['channel_title', 'is_top_level_comment'])['user_id'].nunique() * 100\n",
    "    percentage = percentage.round(1)\n",
    "    return percentage.reset_index(name='%_usuarios_con_multiples_comentarios_por_video')\n",
    "\n",
    "# Load the dataframe\n",
    "df = comentarios_filtered_time\n",
    "\n",
    "# Calculate the metric\n",
    "users_with_multiple_comments_per_video = calculate_users_with_multiple_comments_per_video(df)\n",
    "\n",
    "users_with_multiple_comments_per_video\n"
   ]
  },
  {
   "cell_type": "markdown",
   "metadata": {},
   "source": [
    "is_top_level_comment equivale a los comentarios que son del video y están dentro de un hilo. Observamos que en todos los casos los comentarios repetidos tienen mayor incidencia en los hilos que tiene sentido al representar el debate de los usuarios."
   ]
  },
  {
   "cell_type": "markdown",
   "metadata": {},
   "source": [
    "#### Usuarios con comentarios en más de un video"
   ]
  },
  {
   "cell_type": "code",
   "execution_count": 76,
   "metadata": {},
   "outputs": [
    {
     "data": {
      "text/html": [
       "<div>\n",
       "<style scoped>\n",
       "    .dataframe tbody tr th:only-of-type {\n",
       "        vertical-align: middle;\n",
       "    }\n",
       "\n",
       "    .dataframe tbody tr th {\n",
       "        vertical-align: top;\n",
       "    }\n",
       "\n",
       "    .dataframe thead th {\n",
       "        text-align: right;\n",
       "    }\n",
       "</style>\n",
       "<table border=\"1\" class=\"dataframe\">\n",
       "  <thead>\n",
       "    <tr style=\"text-align: right;\">\n",
       "      <th></th>\n",
       "      <th>Cantidad de Videos Comentados</th>\n",
       "      <th>Cantidad Usuarios</th>\n",
       "      <th>% del Total de Usuarios</th>\n",
       "    </tr>\n",
       "  </thead>\n",
       "  <tbody>\n",
       "    <tr>\n",
       "      <th>0</th>\n",
       "      <td>1</td>\n",
       "      <td>36528</td>\n",
       "      <td>79.1</td>\n",
       "    </tr>\n",
       "    <tr>\n",
       "      <th>1</th>\n",
       "      <td>2</td>\n",
       "      <td>5863</td>\n",
       "      <td>12.7</td>\n",
       "    </tr>\n",
       "    <tr>\n",
       "      <th>2</th>\n",
       "      <td>3</td>\n",
       "      <td>1916</td>\n",
       "      <td>4.1</td>\n",
       "    </tr>\n",
       "    <tr>\n",
       "      <th>3</th>\n",
       "      <td>4</td>\n",
       "      <td>807</td>\n",
       "      <td>1.7</td>\n",
       "    </tr>\n",
       "    <tr>\n",
       "      <th>4</th>\n",
       "      <td>5</td>\n",
       "      <td>394</td>\n",
       "      <td>0.9</td>\n",
       "    </tr>\n",
       "    <tr>\n",
       "      <th>5</th>\n",
       "      <td>6</td>\n",
       "      <td>219</td>\n",
       "      <td>0.5</td>\n",
       "    </tr>\n",
       "    <tr>\n",
       "      <th>6</th>\n",
       "      <td>7</td>\n",
       "      <td>150</td>\n",
       "      <td>0.3</td>\n",
       "    </tr>\n",
       "    <tr>\n",
       "      <th>7</th>\n",
       "      <td>8</td>\n",
       "      <td>93</td>\n",
       "      <td>0.2</td>\n",
       "    </tr>\n",
       "    <tr>\n",
       "      <th>8</th>\n",
       "      <td>9</td>\n",
       "      <td>55</td>\n",
       "      <td>0.1</td>\n",
       "    </tr>\n",
       "    <tr>\n",
       "      <th>9</th>\n",
       "      <td>10</td>\n",
       "      <td>47</td>\n",
       "      <td>0.1</td>\n",
       "    </tr>\n",
       "  </tbody>\n",
       "</table>\n",
       "</div>"
      ],
      "text/plain": [
       "   Cantidad de Videos Comentados  Cantidad Usuarios  % del Total de Usuarios\n",
       "0                              1              36528                     79.1\n",
       "1                              2               5863                     12.7\n",
       "2                              3               1916                      4.1\n",
       "3                              4                807                      1.7\n",
       "4                              5                394                      0.9\n",
       "5                              6                219                      0.5\n",
       "6                              7                150                      0.3\n",
       "7                              8                 93                      0.2\n",
       "8                              9                 55                      0.1\n",
       "9                             10                 47                      0.1"
      ]
     },
     "execution_count": 76,
     "metadata": {},
     "output_type": "execute_result"
    }
   ],
   "source": [
    "def calculate_users_videos_distribution(df):\n",
    "    # Group by user_id to count distinct videos commented\n",
    "    video_counts = df.groupby('user_id')['video_title'].nunique().reset_index(name='video_count')\n",
    "    # Count the number of users for each unique video count\n",
    "    video_distribution = video_counts['video_count'].value_counts().reset_index()\n",
    "    video_distribution.columns = ['Cantidad de Videos Comentados', 'Cantidad Usuarios']\n",
    "    # Calculate the percentage of total users for each unique video count\n",
    "    video_distribution['% del Total de Usuarios'] = (video_distribution['Cantidad Usuarios'] / video_counts.shape[0]) * 100\n",
    "    # Redondear a 1 decimal\n",
    "    video_distribution['% del Total de Usuarios'] = video_distribution['% del Total de Usuarios'].round(1)\n",
    "    return video_distribution\n",
    "\n",
    "# Calculate the metric\n",
    "video_distribution = calculate_users_videos_distribution(df)\n",
    "\n",
    "# Display the result as a table\n",
    "video_distribution.head(10)"
   ]
  },
  {
   "cell_type": "code",
   "execution_count": 77,
   "metadata": {
    "colab": {
     "base_uri": "https://localhost:8080/",
     "height": 175
    },
    "executionInfo": {
     "elapsed": 396,
     "status": "ok",
     "timestamp": 1720549638212,
     "user": {
      "displayName": "Vladyslav Dodonov",
      "userId": "03989027945806646216"
     },
     "user_tz": -120
    },
    "id": "mKupFQzluTBE",
    "outputId": "2303febd-5dba-433a-c8aa-3d4566c611a9"
   },
   "outputs": [
    {
     "data": {
      "text/html": [
       "<div>\n",
       "<style scoped>\n",
       "    .dataframe tbody tr th:only-of-type {\n",
       "        vertical-align: middle;\n",
       "    }\n",
       "\n",
       "    .dataframe tbody tr th {\n",
       "        vertical-align: top;\n",
       "    }\n",
       "\n",
       "    .dataframe thead th {\n",
       "        text-align: right;\n",
       "    }\n",
       "</style>\n",
       "<table border=\"1\" class=\"dataframe\">\n",
       "  <thead>\n",
       "    <tr style=\"text-align: right;\">\n",
       "      <th></th>\n",
       "      <th>channel_title</th>\n",
       "      <th>% de Usuarios con multiples videos comentados</th>\n",
       "    </tr>\n",
       "  </thead>\n",
       "  <tbody>\n",
       "    <tr>\n",
       "      <th>0</th>\n",
       "      <td>El Destape</td>\n",
       "      <td>17.0</td>\n",
       "    </tr>\n",
       "    <tr>\n",
       "      <th>1</th>\n",
       "      <td>El Peluca Milei</td>\n",
       "      <td>12.2</td>\n",
       "    </tr>\n",
       "    <tr>\n",
       "      <th>2</th>\n",
       "      <td>Infobae</td>\n",
       "      <td>NaN</td>\n",
       "    </tr>\n",
       "    <tr>\n",
       "      <th>3</th>\n",
       "      <td>LA NACION</td>\n",
       "      <td>11.7</td>\n",
       "    </tr>\n",
       "    <tr>\n",
       "      <th>4</th>\n",
       "      <td>Pais De Boludos</td>\n",
       "      <td>17.9</td>\n",
       "    </tr>\n",
       "    <tr>\n",
       "      <th>5</th>\n",
       "      <td>Revolución Popular Noticias</td>\n",
       "      <td>27.0</td>\n",
       "    </tr>\n",
       "    <tr>\n",
       "      <th>6</th>\n",
       "      <td>Urgente Milei</td>\n",
       "      <td>7.8</td>\n",
       "    </tr>\n",
       "  </tbody>\n",
       "</table>\n",
       "</div>"
      ],
      "text/plain": [
       "                 channel_title  % de Usuarios con multiples videos comentados\n",
       "0                   El Destape                                           17.0\n",
       "1              El Peluca Milei                                           12.2\n",
       "2                      Infobae                                            NaN\n",
       "3                    LA NACION                                           11.7\n",
       "4              Pais De Boludos                                           17.9\n",
       "5  Revolución Popular Noticias                                           27.0\n",
       "6                Urgente Milei                                            7.8"
      ]
     },
     "execution_count": 77,
     "metadata": {},
     "output_type": "execute_result"
    }
   ],
   "source": [
    "def calculate_users_with_multiple_videos_commented(df):\n",
    "    grouped = df.groupby(['channel_title', 'user_id'])['video_title'].nunique().reset_index(name='video_count')\n",
    "    multiple_videos = grouped[grouped['video_count'] > 1]\n",
    "    percentage = multiple_videos.groupby('channel_title')['user_id'].nunique() / df.groupby('channel_title')['user_id'].nunique() * 100\n",
    "    percentage = percentage.round(1)\n",
    "    return percentage.reset_index(name='% de Usuarios con multiples videos comentados')\n",
    "\n",
    "# Calculate the metric\n",
    "users_with_multiple_videos_commented = calculate_users_with_multiple_videos_commented(df)\n",
    "\n",
    "# Display the result as a table\n",
    "users_with_multiple_videos_commented\n"
   ]
  },
  {
   "cell_type": "code",
   "execution_count": 79,
   "metadata": {
    "colab": {
     "base_uri": "https://localhost:8080/",
     "height": 638
    },
    "executionInfo": {
     "elapsed": 725,
     "status": "ok",
     "timestamp": 1720549857527,
     "user": {
      "displayName": "Vladyslav Dodonov",
      "userId": "03989027945806646216"
     },
     "user_tz": -120
    },
    "id": "Al4byRp6w0-D",
    "outputId": "94971d9c-2dc6-41fa-8798-9cd220a86512"
   },
   "outputs": [
    {
     "data": {
      "image/png": "[encoded data removed]",
      "text/plain": [
       "<Figure size 1000x600 with 1 Axes>"
      ]
     },
     "metadata": {},
     "output_type": "display_data"
    }
   ],
   "source": [
    "def plot_users_with_multiple_videos_commented(data):\n",
    "    plt.figure(figsize=(10, 6))\n",
    "    sns.barplot(x='channel_title', y='% de Usuarios con multiples videos comentados', data=data)\n",
    "    plt.title('% de Usuarios con multiples videos comentados por Canal')\n",
    "    plt.xlabel('Channel Title')\n",
    "    plt.ylabel('Percentage')\n",
    "    plt.xticks(rotation=45)\n",
    "    plt.show()\n",
    "\n",
    "# Plot the visualization\n",
    "plot_users_with_multiple_videos_commented(users_with_multiple_videos_commented)\n"
   ]
  },
  {
   "cell_type": "markdown",
   "metadata": {},
   "source": [
    "#### Usuarios con comentarios en más de un Canal"
   ]
  },
  {
   "cell_type": "code",
   "execution_count": 83,
   "metadata": {
    "colab": {
     "base_uri": "https://localhost:8080/",
     "height": 143
    },
    "executionInfo": {
     "elapsed": 271,
     "status": "ok",
     "timestamp": 1720550251952,
     "user": {
      "displayName": "Vladyslav Dodonov",
      "userId": "03989027945806646216"
     },
     "user_tz": -120
    },
    "id": "IIXcEQefw_cM",
    "outputId": "ca226683-c2a3-4120-8309-159b72a98b4d"
   },
   "outputs": [
    {
     "data": {
      "text/html": [
       "<div>\n",
       "<style scoped>\n",
       "    .dataframe tbody tr th:only-of-type {\n",
       "        vertical-align: middle;\n",
       "    }\n",
       "\n",
       "    .dataframe tbody tr th {\n",
       "        vertical-align: top;\n",
       "    }\n",
       "\n",
       "    .dataframe thead th {\n",
       "        text-align: right;\n",
       "    }\n",
       "</style>\n",
       "<table border=\"1\" class=\"dataframe\">\n",
       "  <thead>\n",
       "    <tr style=\"text-align: right;\">\n",
       "      <th></th>\n",
       "      <th>Cantidad de Canales Comentados</th>\n",
       "      <th>Total Usuarios</th>\n",
       "      <th>% de Total de Usuarios</th>\n",
       "    </tr>\n",
       "  </thead>\n",
       "  <tbody>\n",
       "    <tr>\n",
       "      <th>0</th>\n",
       "      <td>1</td>\n",
       "      <td>41309</td>\n",
       "      <td>89.4</td>\n",
       "    </tr>\n",
       "    <tr>\n",
       "      <th>1</th>\n",
       "      <td>2</td>\n",
       "      <td>4170</td>\n",
       "      <td>9.0</td>\n",
       "    </tr>\n",
       "    <tr>\n",
       "      <th>2</th>\n",
       "      <td>3</td>\n",
       "      <td>625</td>\n",
       "      <td>1.4</td>\n",
       "    </tr>\n",
       "    <tr>\n",
       "      <th>3</th>\n",
       "      <td>4</td>\n",
       "      <td>68</td>\n",
       "      <td>0.1</td>\n",
       "    </tr>\n",
       "    <tr>\n",
       "      <th>4</th>\n",
       "      <td>5</td>\n",
       "      <td>12</td>\n",
       "      <td>0.0</td>\n",
       "    </tr>\n",
       "  </tbody>\n",
       "</table>\n",
       "</div>"
      ],
      "text/plain": [
       "   Cantidad de Canales Comentados  Total Usuarios  % de Total de Usuarios\n",
       "0                               1           41309                    89.4\n",
       "1                               2            4170                     9.0\n",
       "2                               3             625                     1.4\n",
       "3                               4              68                     0.1\n",
       "4                               5              12                     0.0"
      ]
     },
     "execution_count": 83,
     "metadata": {},
     "output_type": "execute_result"
    }
   ],
   "source": [
    "def calculate_users_channels_distribution(df):\n",
    "    # Group by user_id to count distinct channels commented\n",
    "    channel_counts = df.groupby('user_id')['channel_title'].nunique().reset_index(name='channel_count')\n",
    "    # Count the number of users for each unique channel count\n",
    "    channel_distribution = channel_counts['channel_count'].value_counts().reset_index()\n",
    "    channel_distribution.columns = ['Cantidad de Canales Comentados', 'Total Usuarios']\n",
    "    # Calculate the percentage of total users for each unique channel count\n",
    "    channel_distribution['% de Total de Usuarios'] = (channel_distribution['Total Usuarios'] / channel_counts.shape[0]) * 100\n",
    "    channel_distribution = channel_distribution.round(1)\n",
    "    return channel_distribution\n",
    "\n",
    "# Calculate the metric\n",
    "channel_distribution = calculate_users_channels_distribution(df)\n",
    "\n",
    "# Display the result as a table\n",
    "channel_distribution\n"
   ]
  },
  {
   "cell_type": "code",
   "execution_count": 84,
   "metadata": {
    "executionInfo": {
     "elapsed": 279,
     "status": "ok",
     "timestamp": 1720558979220,
     "user": {
      "displayName": "Vladyslav Dodonov",
      "userId": "03989027945806646216"
     },
     "user_tz": -120
    },
    "id": "ocSAO07iDaEs"
   },
   "outputs": [],
   "source": [
    "# Group by date for comments\n",
    "comments_by_date = comentarios_filtered_time.groupby(comentarios_filtered_time['comment_time'].dt.date).size()\n",
    "\n",
    "# Group by date for video publications\n",
    "publications_by_date = comentarios_filtered_time.groupby(comentarios_filtered_time['video_published_at'].dt.date).size()\n"
   ]
  },
  {
   "cell_type": "code",
   "execution_count": 86,
   "metadata": {
    "colab": {
     "base_uri": "https://localhost:8080/",
     "height": 607
    },
    "executionInfo": {
     "elapsed": 829,
     "status": "ok",
     "timestamp": 1720558981485,
     "user": {
      "displayName": "Vladyslav Dodonov",
      "userId": "03989027945806646216"
     },
     "user_tz": -120
    },
    "id": "xXYblX_9JR0L",
    "outputId": "8f7f30d5-a9da-4282-96da-413cfdadd269"
   },
   "outputs": [
    {
     "data": {
      "image/png": "[encoded data removed]",
      "text/plain": [
       "<Figure size 1200x600 with 1 Axes>"
      ]
     },
     "metadata": {},
     "output_type": "display_data"
    }
   ],
   "source": [
    "# Plotting\n",
    "plt.figure(figsize=(12, 6))\n",
    "\n",
    "plt.plot(comments_by_date.index, comments_by_date.values, label='Comments', marker='o')\n",
    "#plt.plot(publications_by_date.index, publications_by_date.values, label='Publications', marker='s')\n",
    "\n",
    "plt.title('Número de comentarios por fecha')\n",
    "plt.xlabel('Fecha')\n",
    "plt.ylabel('Conteo')\n",
    "plt.xticks(rotation=45)\n",
    "plt.legend()\n",
    "\n",
    "plt.tight_layout()\n",
    "plt.show()"
   ]
  },
  {
   "cell_type": "code",
   "execution_count": 88,
   "metadata": {
    "colab": {
     "base_uri": "https://localhost:8080/",
     "height": 607
    },
    "executionInfo": {
     "elapsed": 1422,
     "status": "ok",
     "timestamp": 1720570022136,
     "user": {
      "displayName": "Vladyslav Dodonov",
      "userId": "03989027945806646216"
     },
     "user_tz": -120
    },
    "id": "dIrf2OSr8Rrr",
    "outputId": "7eb5a888-5bd1-4651-c329-4253a42915c9"
   },
   "outputs": [
    {
     "data": {
      "image/png": "[encoded data removed]",
      "text/plain": [
       "<Figure size 1200x600 with 1 Axes>"
      ]
     },
     "metadata": {},
     "output_type": "display_data"
    }
   ],
   "source": [
    "# Group by week and condiciones_cuenta\n",
    "comments_by_week_and_condition = comentarios_filtered_time.groupby([pd.Grouper(key='comment_time', freq='W-MON'), 'condiciones_cuenta']).size().reset_index(name='count')\n",
    "\n",
    "# Format the week dates to show only the day part\n",
    "comments_by_week_and_condition['comment_time'] = comments_by_week_and_condition['comment_time'].dt.strftime('%Y-%m-%d')\n",
    "\n",
    "# Pivot the data to have condiciones_cuenta as columns\n",
    "pivot_table = comments_by_week_and_condition.pivot(index='comment_time', columns='condiciones_cuenta', values='count').fillna(0)\n",
    "\n",
    "# Plotting\n",
    "pivot_table.plot(kind='bar', stacked=True, figsize=(12, 6))\n",
    "\n",
    "plt.title('Número de Comentarios por semana. Agrupados por Condición de la Cuenta dónde comentan.')\n",
    "plt.xlabel('Semana')\n",
    "plt.ylabel('Conteo')\n",
    "plt.xticks(rotation=45)\n",
    "plt.legend(title='Condición Cuenta')\n",
    "\n",
    "plt.tight_layout()\n",
    "plt.show()"
   ]
  }
 ],
 "metadata": {
  "colab": {
   "authorship_tag": "ABX9TyMTWSUEYGHIOBywfFmEtYQ2",
   "provenance": [
    {
     "file_id": "1Y0vPPeLhXrcLKLYLA7yi4eGZ3dKqmiUz",
     "timestamp": 1720385140844
    },
    {
     "file_id": "12lkTL34PQpWT2hMS94Eakrm3X1is13TQ",
     "timestamp": 1720270042728
    }
   ]
  },
  "kernelspec": {
   "display_name": "Python 3",
   "name": "python3"
  },
  "language_info": {
   "codemirror_mode": {
    "name": "ipython",
    "version": 3
   },
   "file_extension": ".py",
   "mimetype": "text/x-python",
   "name": "python",
   "nbconvert_exporter": "python",
   "pygments_lexer": "ipython3",
   "version": "3.10.8"
  }
 },
 "nbformat": 4,
 "nbformat_minor": 0
}
