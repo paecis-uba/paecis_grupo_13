{
 "cells": [
  {
   "cell_type": "code",
   "execution_count": null,
   "id": "bf26a19a",
   "metadata": {},
   "outputs": [],
   "source": [
    "#%pip install spacy"
   ]
  },
  {
   "cell_type": "code",
   "execution_count": null,
   "id": "4a2f4ed5-3c26-45da-bbc0-208addec36ab",
   "metadata": {},
   "outputs": [],
   "source": [
    "import os\n",
    "import spacy\n",
    "import pandas as pd"
   ]
  },
  {
   "cell_type": "code",
   "execution_count": null,
   "id": "4da40961",
   "metadata": {},
   "outputs": [],
   "source": [
    "nlp = spacy.load('es_core_news_sm')"
   ]
  },
  {
   "cell_type": "code",
   "execution_count": 4,
   "id": "1e28bc99-2aa3-49e4-83bd-832e521d2fb1",
   "metadata": {},
   "outputs": [],
   "source": [
    "##Creo la lista de insultos. \n",
    "##Intenta ser amplia y también tomar variaciones de la palabra en masculino, femenino, singular y plural. Tambien en mayuscula\n",
    "##Se escapan otras variaciones: tildes, errores de ortografía, etc. \n",
    "\n",
    "##Es perfectible. \n",
    "lista_insultos = ['idiota', 'idiotas', 'forro', 'forra', 'forros', 'forras', 'puto', 'putos', 'puta', 'putas', 'trolo',\n",
    "                  'trola','trolos','trolas', 'hijo de puta', 'hijos de puta', 'hija de puta', 'hijas de puta', 'la concha de tu madre',\n",
    "                  'garcas','garca', 'conchuda', 'negros de mierda', 'negro de mierda', 'negra de mierda', 'negros de mierda', 'sorete', \n",
    "                  'mogolico', 'mogolicos', 'mogolica', 'mogolicas', 'down', 'mierdas', 'pelotudo', 'pelotuda', 'pelotudos', 'pelotudas', \n",
    "                  'boluda', 'boludo', 'boludas', 'boludos', 'estupida', 'estupidas', 'estupidos', 'estupidas', 'pajero', 'pajera', 'pajeros',\n",
    "                  'pajeras', 'tonto', 'tonta', 'tontos', 'tontas', 'petero', 'petera', 'peteros', 'peteras', 'yegua', 'virgen', 'basura', \n",
    "                 'basuras', 'psiquiatrico', 'psiquiatrica', 'imbecil', 'imbeciles', 'maricon', 'maricones', 'marica', 'chupa pija',\n",
    "                 'chupa pijas', 'cabrón', 'cabron','cabrones', 'payasa', 'payasos', 'payaso', 'dementes', 'demente', 'burro', 'burros', \n",
    "                  'burra', 'burras', 'gorilas', 'gorila', 'zurdo de', 'zurdos de', 'chanta', 'IDIOTA', 'IDIOTAS', 'FORRO', 'FORRA', 'FORROS', 'FORRAS', 'PUTO', 'PUTOS', 'PUTA', 'PUTAS', 'TROLO',\n",
    "                  'TROLA','TROLOS','TROLAS', 'HIJO DE PUTA', 'HIJOS DE PUTA', 'HIJA DE PUTA', 'HIJAS DE PUTA', 'LA CONCHA DE TU MADRE',\n",
    "                  'GARCAS','GARCA', 'CONCHUDA', 'NEGROS DE MIERDA', 'NEGRO DE MIERDA', 'NEGRA DE MIERDA', 'NEGROS DE MIERDA', 'SORETE', \n",
    "                  'MOGOLICO', 'MOGOLICOS', 'MOGOLICA', 'MOGOLICAS', 'DOWN', 'MIERDAS', 'PELOTUDO', 'PELOTUDA', 'PELOTUDOS', 'PELOTUDAS', \n",
    "                  'BOLUDA', 'BOLUDO', 'BOLUDAS', 'BOLUDOS', 'ESTUPIDA', 'ESTUPIDAS', 'ESTUPIDOS', 'ESTUPIDAS', 'PAJERO', 'PAJERA', 'PAJEROS',\n",
    "                  'PAJERAS', 'TONTO', 'TONTA', 'TONTOS', 'TONTAS', 'PETERO', 'PETERA', 'PETEROS', 'PETERAS', 'YEGUA', 'VIRGEN', 'BASURA', \n",
    "                 'BASURAS', 'PSIQUIATRICO', 'PSIQUIATRICA', 'IMBECIL', 'IMBECILES', 'MARICON', 'MARICONES', 'MARICA', 'CHUPA PIJA',\n",
    "                 'CHUPA PIJAS', 'CABRÓN', 'CABRON','CABRONES', 'PAYASA', 'PAYASOS', 'PAYASO', 'DEMENTES', 'DEMENTE', 'BURRO', 'BURROS', \n",
    "                  'BURRA', 'BURRAS', 'GORILAS', 'GORILA', 'ZURDO DE', 'ZURDOS DE', 'CHANTA']"
   ]
  },
  {
   "cell_type": "code",
   "execution_count": 5,
   "id": "6982144c-62d6-48f6-ae8d-9897ee42aaba",
   "metadata": {},
   "outputs": [],
   "source": [
    "##Creo mi función para detectar si hay o no insultos en el comentario. \n",
    "def contiene_insulto(comentario, lista_insultos):\n",
    "    doc = nlp(comentario)\n",
    "    for token in doc:\n",
    "        if token.text.lower() in lista_insultos:\n",
    "            return True\n",
    "    return False"
   ]
  },
  {
   "cell_type": "code",
   "execution_count": 9,
   "id": "aa4172fc-0f7e-45d5-af25-7bbdab34f030",
   "metadata": {},
   "outputs": [],
   "source": [
    "# Getting the path and the file from the data raw directory\n",
    "ruta_archivo = os.path.join('..', \"data\", \"processed\", \"dfscore.csv\")\n",
    "dfscore = pd.read_csv(ruta_archivo)"
   ]
  },
  {
   "cell_type": "code",
   "execution_count": 10,
   "id": "6d5882fa-d1f6-4da5-bf90-15aa6345d517",
   "metadata": {},
   "outputs": [],
   "source": [
    "##Indico que se cree una nueva columna \"contiene_insulto\" tras aplicar en la columna \"comment\" la función de detección\n",
    "dfscore['contiene_insulto'] = dfscore['comment'].apply(lambda x: contiene_insulto(x, lista_insultos))"
   ]
  },
  {
   "cell_type": "code",
   "execution_count": 11,
   "id": "1edff4b9-9fec-4125-9902-de27a96af62a",
   "metadata": {},
   "outputs": [],
   "source": [
    "##Reemplazo el TRUE/FALSE por un Insulta o No insulta\n",
    "dfscore['contiene_insulto'] = dfscore['contiene_insulto'].replace({True: 'Insulta', False: 'No insulta'})"
   ]
  },
  {
   "cell_type": "code",
   "execution_count": 13,
   "id": "12d06131-5295-4c3d-9cb0-8c63bf35a3c3",
   "metadata": {},
   "outputs": [
    {
     "data": {
      "text/plain": [
       "contiene_insulto\n",
       "No insulta    0.971101\n",
       "Insulta       0.028899\n",
       "Name: count, dtype: float64"
      ]
     },
     "execution_count": 13,
     "metadata": {},
     "output_type": "execute_result"
    }
   ],
   "source": [
    "#Chequeo valores\n",
    "agresividad = dfscore.value_counts(subset='contiene_insulto')\n",
    "denominador = dfscore.shape[0]\n",
    "agresividad/denominador"
   ]
  },
  {
   "cell_type": "code",
   "execution_count": 15,
   "id": "35acc110-bd86-4996-9213-b921210c89a7",
   "metadata": {},
   "outputs": [
    {
     "data": {
      "text/plain": [
       "contiene_insulto\n",
       "No insulta    0.973138\n",
       "Insulta       0.026862\n",
       "Name: count, dtype: float64"
      ]
     },
     "execution_count": 15,
     "metadata": {},
     "output_type": "execute_result"
    }
   ],
   "source": [
    "eventopos = dfscore[dfscore['tipo_evento'] == 'Favorable']\n",
    "sentimiento_comentario = eventopos.value_counts(subset='contiene_insulto')\n",
    "denominador = eventopos.shape[0]\n",
    "sentimiento_comentario/denominador"
   ]
  },
  {
   "cell_type": "code",
   "execution_count": 16,
   "id": "317aa781-2328-4367-a26b-1729fa4bf83d",
   "metadata": {},
   "outputs": [
    {
     "data": {
      "text/plain": [
       "contiene_insulto\n",
       "No insulta    0.968944\n",
       "Insulta       0.031056\n",
       "Name: count, dtype: float64"
      ]
     },
     "execution_count": 16,
     "metadata": {},
     "output_type": "execute_result"
    }
   ],
   "source": [
    "eventoneg = dfscore[dfscore['tipo_evento'] == 'Desfavorable']\n",
    "sentimiento_comentario = eventoneg.value_counts(subset='contiene_insulto')\n",
    "denominador = eventoneg.shape[0]\n",
    "sentimiento_comentario/denominador"
   ]
  },
  {
   "cell_type": "code",
   "execution_count": 17,
   "id": "2d009ea1-b1d2-443c-9b00-ffb6253fd757",
   "metadata": {},
   "outputs": [
    {
     "data": {
      "text/plain": [
       "contiene_insulto\n",
       "No insulta    0.975928\n",
       "Insulta       0.024072\n",
       "Name: count, dtype: float64"
      ]
     },
     "execution_count": 17,
     "metadata": {},
     "output_type": "execute_result"
    }
   ],
   "source": [
    "encontra = dfscore[dfscore['condiciones_cuenta'] == 'En contra']\n",
    "sentimiento_comentario = encontra.value_counts(subset='contiene_insulto')\n",
    "denominador = encontra.shape[0]\n",
    "sentimiento_comentario/denominador"
   ]
  },
  {
   "cell_type": "code",
   "execution_count": 18,
   "id": "13b16d70-e091-4ece-aeb5-2ef98f4c65f0",
   "metadata": {},
   "outputs": [
    {
     "data": {
      "text/plain": [
       "contiene_insulto\n",
       "No insulta    0.96354\n",
       "Insulta       0.03646\n",
       "Name: count, dtype: float64"
      ]
     },
     "execution_count": 18,
     "metadata": {},
     "output_type": "execute_result"
    }
   ],
   "source": [
    "afavor = dfscore[dfscore['condiciones_cuenta'] == 'A favor']\n",
    "sentimiento_comentario = afavor.value_counts(subset='contiene_insulto')\n",
    "denominador = afavor.shape[0]\n",
    "sentimiento_comentario/denominador"
   ]
  },
  {
   "cell_type": "code",
   "execution_count": null,
   "id": "318aabf1",
   "metadata": {},
   "outputs": [],
   "source": [
    "##Guardo el resultado\n",
    "\n",
    "# Relative destination for result\n",
    "directorio_destino = os.path.join('..', \"data\", \"processed\")\n",
    "dfscore_final_destino = os.path.join(directorio_destino, 'dfscore_final.csv')\n",
    "\n",
    "# Saving the combined DataFrame to a CSV file with UTF-8 encoding\n",
    "dfscore.to_csv(dfscore_final_destino, index=False, encoding='utf-8')"
   ]
  }
 ],
 "metadata": {
  "kernelspec": {
   "display_name": "Python 3",
   "language": "python",
   "name": "python3"
  },
  "language_info": {
   "codemirror_mode": {
    "name": "ipython",
    "version": 3
   },
   "file_extension": ".py",
   "mimetype": "text/x-python",
   "name": "python",
   "nbconvert_exporter": "python",
   "pygments_lexer": "ipython3",
   "version": "3.10.8"
  }
 },
 "nbformat": 4,
 "nbformat_minor": 5
}
